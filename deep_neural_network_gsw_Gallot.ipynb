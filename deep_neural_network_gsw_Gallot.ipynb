{
 "cells": [
  {
   "cell_type": "markdown",
   "metadata": {
    "id": "YEAjst7qYmpE"
   },
   "source": [
    "# Classification des séries temporelles de conductances stomatique (gsw) selon leur traitement hydrique avec un modèle de deep neural network\n"
   ]
  },
  {
   "cell_type": "markdown",
   "metadata": {
    "id": "AHegKYKgZG4U"
   },
   "source": [
    "On commence par importer l'ensemble des librairies et méthodes nécessaires."
   ]
  },
  {
   "cell_type": "code",
   "execution_count": null,
   "metadata": {
    "id": "tawVDWoRTgtF"
   },
   "outputs": [],
   "source": [
    "import numpy as np\n",
    "import tensorflow as tf\n",
    "import matplotlib.pyplot as plt\n",
    "\n",
    "import os\n",
    "import pandas as pd\n",
    "from sklearn.preprocessing import StandardScaler\n",
    "from sklearn.utils import class_weight\n",
    "from sklearn.metrics import f1_score, precision_score, confusion_matrix, ConfusionMatrixDisplay\n",
    "from tensorflow.keras import backend as K\n",
    "from tensorflow import keras\n",
    "from tensorflow.keras.callbacks import Callback\n",
    "from sklearn.model_selection import train_test_split\n",
    "from sklearn.preprocessing import LabelEncoder\n",
    "\n",
    "from collections import Counter\n",
    "from imblearn.over_sampling import SMOTE\n",
    "\n",
    "from tensorflow.keras.layers import LSTM, Dense, Dropout\n",
    "from tensorflow.keras.models import Sequential"
   ]
  },
  {
   "cell_type": "markdown",
   "metadata": {
    "id": "hV9nyLFcZOKq"
   },
   "source": [
    "On télécharge le fichier de données."
   ]
  },
  {
   "cell_type": "code",
   "execution_count": null,
   "metadata": {
    "colab": {
     "base_uri": "https://localhost:8080/",
     "height": 74
    },
    "id": "vvkkxrlgUw9K",
    "outputId": "6f373675-db45-4ba8-95a8-67497c8adf1b"
   },
   "outputs": [
    {
     "data": {
      "text/html": [
       "\n",
       "     <input type=\"file\" id=\"files-b0cab860-2640-4fb0-b536-4744c1f0e241\" name=\"files[]\" multiple disabled\n",
       "        style=\"border:none\" />\n",
       "     <output id=\"result-b0cab860-2640-4fb0-b536-4744c1f0e241\">\n",
       "      Upload widget is only available when the cell has been executed in the\n",
       "      current browser session. Please rerun this cell to enable.\n",
       "      </output>\n",
       "      <script>// Copyright 2017 Google LLC\n",
       "//\n",
       "// Licensed under the Apache License, Version 2.0 (the \"License\");\n",
       "// you may not use this file except in compliance with the License.\n",
       "// You may obtain a copy of the License at\n",
       "//\n",
       "//      http://www.apache.org/licenses/LICENSE-2.0\n",
       "//\n",
       "// Unless required by applicable law or agreed to in writing, software\n",
       "// distributed under the License is distributed on an \"AS IS\" BASIS,\n",
       "// WITHOUT WARRANTIES OR CONDITIONS OF ANY KIND, either express or implied.\n",
       "// See the License for the specific language governing permissions and\n",
       "// limitations under the License.\n",
       "\n",
       "/**\n",
       " * @fileoverview Helpers for google.colab Python module.\n",
       " */\n",
       "(function(scope) {\n",
       "function span(text, styleAttributes = {}) {\n",
       "  const element = document.createElement('span');\n",
       "  element.textContent = text;\n",
       "  for (const key of Object.keys(styleAttributes)) {\n",
       "    element.style[key] = styleAttributes[key];\n",
       "  }\n",
       "  return element;\n",
       "}\n",
       "\n",
       "// Max number of bytes which will be uploaded at a time.\n",
       "const MAX_PAYLOAD_SIZE = 100 * 1024;\n",
       "\n",
       "function _uploadFiles(inputId, outputId) {\n",
       "  const steps = uploadFilesStep(inputId, outputId);\n",
       "  const outputElement = document.getElementById(outputId);\n",
       "  // Cache steps on the outputElement to make it available for the next call\n",
       "  // to uploadFilesContinue from Python.\n",
       "  outputElement.steps = steps;\n",
       "\n",
       "  return _uploadFilesContinue(outputId);\n",
       "}\n",
       "\n",
       "// This is roughly an async generator (not supported in the browser yet),\n",
       "// where there are multiple asynchronous steps and the Python side is going\n",
       "// to poll for completion of each step.\n",
       "// This uses a Promise to block the python side on completion of each step,\n",
       "// then passes the result of the previous step as the input to the next step.\n",
       "function _uploadFilesContinue(outputId) {\n",
       "  const outputElement = document.getElementById(outputId);\n",
       "  const steps = outputElement.steps;\n",
       "\n",
       "  const next = steps.next(outputElement.lastPromiseValue);\n",
       "  return Promise.resolve(next.value.promise).then((value) => {\n",
       "    // Cache the last promise value to make it available to the next\n",
       "    // step of the generator.\n",
       "    outputElement.lastPromiseValue = value;\n",
       "    return next.value.response;\n",
       "  });\n",
       "}\n",
       "\n",
       "/**\n",
       " * Generator function which is called between each async step of the upload\n",
       " * process.\n",
       " * @param {string} inputId Element ID of the input file picker element.\n",
       " * @param {string} outputId Element ID of the output display.\n",
       " * @return {!Iterable<!Object>} Iterable of next steps.\n",
       " */\n",
       "function* uploadFilesStep(inputId, outputId) {\n",
       "  const inputElement = document.getElementById(inputId);\n",
       "  inputElement.disabled = false;\n",
       "\n",
       "  const outputElement = document.getElementById(outputId);\n",
       "  outputElement.innerHTML = '';\n",
       "\n",
       "  const pickedPromise = new Promise((resolve) => {\n",
       "    inputElement.addEventListener('change', (e) => {\n",
       "      resolve(e.target.files);\n",
       "    });\n",
       "  });\n",
       "\n",
       "  const cancel = document.createElement('button');\n",
       "  inputElement.parentElement.appendChild(cancel);\n",
       "  cancel.textContent = 'Cancel upload';\n",
       "  const cancelPromise = new Promise((resolve) => {\n",
       "    cancel.onclick = () => {\n",
       "      resolve(null);\n",
       "    };\n",
       "  });\n",
       "\n",
       "  // Wait for the user to pick the files.\n",
       "  const files = yield {\n",
       "    promise: Promise.race([pickedPromise, cancelPromise]),\n",
       "    response: {\n",
       "      action: 'starting',\n",
       "    }\n",
       "  };\n",
       "\n",
       "  cancel.remove();\n",
       "\n",
       "  // Disable the input element since further picks are not allowed.\n",
       "  inputElement.disabled = true;\n",
       "\n",
       "  if (!files) {\n",
       "    return {\n",
       "      response: {\n",
       "        action: 'complete',\n",
       "      }\n",
       "    };\n",
       "  }\n",
       "\n",
       "  for (const file of files) {\n",
       "    const li = document.createElement('li');\n",
       "    li.append(span(file.name, {fontWeight: 'bold'}));\n",
       "    li.append(span(\n",
       "        `(${file.type || 'n/a'}) - ${file.size} bytes, ` +\n",
       "        `last modified: ${\n",
       "            file.lastModifiedDate ? file.lastModifiedDate.toLocaleDateString() :\n",
       "                                    'n/a'} - `));\n",
       "    const percent = span('0% done');\n",
       "    li.appendChild(percent);\n",
       "\n",
       "    outputElement.appendChild(li);\n",
       "\n",
       "    const fileDataPromise = new Promise((resolve) => {\n",
       "      const reader = new FileReader();\n",
       "      reader.onload = (e) => {\n",
       "        resolve(e.target.result);\n",
       "      };\n",
       "      reader.readAsArrayBuffer(file);\n",
       "    });\n",
       "    // Wait for the data to be ready.\n",
       "    let fileData = yield {\n",
       "      promise: fileDataPromise,\n",
       "      response: {\n",
       "        action: 'continue',\n",
       "      }\n",
       "    };\n",
       "\n",
       "    // Use a chunked sending to avoid message size limits. See b/62115660.\n",
       "    let position = 0;\n",
       "    do {\n",
       "      const length = Math.min(fileData.byteLength - position, MAX_PAYLOAD_SIZE);\n",
       "      const chunk = new Uint8Array(fileData, position, length);\n",
       "      position += length;\n",
       "\n",
       "      const base64 = btoa(String.fromCharCode.apply(null, chunk));\n",
       "      yield {\n",
       "        response: {\n",
       "          action: 'append',\n",
       "          file: file.name,\n",
       "          data: base64,\n",
       "        },\n",
       "      };\n",
       "\n",
       "      let percentDone = fileData.byteLength === 0 ?\n",
       "          100 :\n",
       "          Math.round((position / fileData.byteLength) * 100);\n",
       "      percent.textContent = `${percentDone}% done`;\n",
       "\n",
       "    } while (position < fileData.byteLength);\n",
       "  }\n",
       "\n",
       "  // All done.\n",
       "  yield {\n",
       "    response: {\n",
       "      action: 'complete',\n",
       "    }\n",
       "  };\n",
       "}\n",
       "\n",
       "scope.google = scope.google || {};\n",
       "scope.google.colab = scope.google.colab || {};\n",
       "scope.google.colab._files = {\n",
       "  _uploadFiles,\n",
       "  _uploadFilesContinue,\n",
       "};\n",
       "})(self);\n",
       "</script> "
      ],
      "text/plain": [
       "<IPython.core.display.HTML object>"
      ]
     },
     "metadata": {},
     "output_type": "display_data"
    },
    {
     "name": "stdout",
     "output_type": "stream",
     "text": [
      "Saving Data_gsw_4.csv to Data_gsw_4 (1).csv\n"
     ]
    }
   ],
   "source": [
    "from google.colab import files\n",
    "uploaded = files.upload()"
   ]
  },
  {
   "cell_type": "code",
   "execution_count": null,
   "metadata": {},
   "outputs": [],
   "source": [
    "fichier_csv = \"fake_path\\Data_gsw_4.csv\""
   ]
  },
  {
   "cell_type": "markdown",
   "metadata": {
    "id": "XcZquhjaZRoz"
   },
   "source": [
    "On ouvre et on visualise le jeu de données."
   ]
  },
  {
   "cell_type": "code",
   "execution_count": null,
   "metadata": {
    "colab": {
     "base_uri": "https://localhost:8080/",
     "height": 206
    },
    "id": "rHW2rqpqUBvD",
    "outputId": "82ace238-ab85-4ff0-c1d7-d05199bd274f"
   },
   "outputs": [
    {
     "data": {
      "application/vnd.google.colaboratory.intrinsic+json": {
       "summary": "{\n  \"name\": \"data_gsw\",\n  \"rows\": 1440,\n  \"fields\": [\n    {\n      \"column\": \"tree\",\n      \"properties\": {\n        \"dtype\": \"category\",\n        \"num_unique_values\": 144,\n        \"samples\": [\n          \"SE_D_59_2\",\n          \"CE_WW_20_1\",\n          \"SE_D_23_2\"\n        ],\n        \"semantic_type\": \"\",\n        \"description\": \"\"\n      }\n    },\n    {\n      \"column\": \"gsw1\",\n      \"properties\": {\n        \"dtype\": \"number\",\n        \"std\": 0.18267955964988652,\n        \"min\": 0.0001,\n        \"max\": 0.890069963,\n        \"num_unique_values\": 1168,\n        \"samples\": [\n          0.6264,\n          0.0022,\n          0.1784\n        ],\n        \"semantic_type\": \"\",\n        \"description\": \"\"\n      }\n    },\n    {\n      \"column\": \"gsw2\",\n      \"properties\": {\n        \"dtype\": \"number\",\n        \"std\": 0.18190100852435145,\n        \"min\": 0.0001,\n        \"max\": 0.952,\n        \"num_unique_values\": 602,\n        \"samples\": [\n          0.1558,\n          0.1722,\n          0.1273\n        ],\n        \"semantic_type\": \"\",\n        \"description\": \"\"\n      }\n    },\n    {\n      \"column\": \"gsw3\",\n      \"properties\": {\n        \"dtype\": \"number\",\n        \"std\": 0.1583674126932261,\n        \"min\": 0.0001,\n        \"max\": 0.7519,\n        \"num_unique_values\": 520,\n        \"samples\": [\n          0.1112,\n          0.344,\n          0.4948\n        ],\n        \"semantic_type\": \"\",\n        \"description\": \"\"\n      }\n    },\n    {\n      \"column\": \"gsw4\",\n      \"properties\": {\n        \"dtype\": \"number\",\n        \"std\": 0.1674752804679831,\n        \"min\": 0.0001,\n        \"max\": 0.9675,\n        \"num_unique_values\": 261,\n        \"samples\": [\n          0.43,\n          0.0871,\n          0.14\n        ],\n        \"semantic_type\": \"\",\n        \"description\": \"\"\n      }\n    },\n    {\n      \"column\": \"gsw5\",\n      \"properties\": {\n        \"dtype\": \"number\",\n        \"std\": 0.1957010450391324,\n        \"min\": 0.0001,\n        \"max\": 0.9392,\n        \"num_unique_values\": 621,\n        \"samples\": [\n          0.6065,\n          0.4549,\n          0.1279\n        ],\n        \"semantic_type\": \"\",\n        \"description\": \"\"\n      }\n    },\n    {\n      \"column\": \"gsw6\",\n      \"properties\": {\n        \"dtype\": \"number\",\n        \"std\": 0.1736604616950473,\n        \"min\": 0.0001,\n        \"max\": 0.7873,\n        \"num_unique_values\": 516,\n        \"samples\": [\n          0.0406,\n          0.0762,\n          0.1968\n        ],\n        \"semantic_type\": \"\",\n        \"description\": \"\"\n      }\n    },\n    {\n      \"column\": \"gsw7\",\n      \"properties\": {\n        \"dtype\": \"number\",\n        \"std\": 0.15832747193032648,\n        \"min\": 0.0001,\n        \"max\": 0.821831888,\n        \"num_unique_values\": 138,\n        \"samples\": [\n          0.22439622,\n          0.450230885,\n          0.559147248\n        ],\n        \"semantic_type\": \"\",\n        \"description\": \"\"\n      }\n    },\n    {\n      \"column\": \"gsw8\",\n      \"properties\": {\n        \"dtype\": \"number\",\n        \"std\": 0.1778256148158341,\n        \"min\": 0.0001,\n        \"max\": 0.89,\n        \"num_unique_values\": 530,\n        \"samples\": [\n          0.5052,\n          0.0462,\n          0.7005\n        ],\n        \"semantic_type\": \"\",\n        \"description\": \"\"\n      }\n    },\n    {\n      \"column\": \"gsw9\",\n      \"properties\": {\n        \"dtype\": \"number\",\n        \"std\": 0.17593268997905784,\n        \"min\": 0.0001,\n        \"max\": 0.7624,\n        \"num_unique_values\": 272,\n        \"samples\": [\n          0.1634,\n          0.2716,\n          0.1126\n        ],\n        \"semantic_type\": \"\",\n        \"description\": \"\"\n      }\n    },\n    {\n      \"column\": \"gsw10\",\n      \"properties\": {\n        \"dtype\": \"number\",\n        \"std\": 0.22720610834339572,\n        \"min\": 0.0001,\n        \"max\": 0.9215,\n        \"num_unique_values\": 135,\n        \"samples\": [\n          0.5522,\n          0.158,\n          0.137\n        ],\n        \"semantic_type\": \"\",\n        \"description\": \"\"\n      }\n    },\n    {\n      \"column\": \"gsw11\",\n      \"properties\": {\n        \"dtype\": \"number\",\n        \"std\": 0.15063295342573454,\n        \"min\": 0.0001,\n        \"max\": 0.7402,\n        \"num_unique_values\": 137,\n        \"samples\": [\n          0.0313,\n          0.1515,\n          0.7402\n        ],\n        \"semantic_type\": \"\",\n        \"description\": \"\"\n      }\n    },\n    {\n      \"column\": \"gsw12\",\n      \"properties\": {\n        \"dtype\": \"number\",\n        \"std\": 0.18866698741589713,\n        \"min\": 0.0001,\n        \"max\": 0.7993,\n        \"num_unique_values\": 134,\n        \"samples\": [\n          0.335,\n          0.0604,\n          0.3184\n        ],\n        \"semantic_type\": \"\",\n        \"description\": \"\"\n      }\n    },\n    {\n      \"column\": \"treatment\",\n      \"properties\": {\n        \"dtype\": \"category\",\n        \"num_unique_values\": 4,\n        \"samples\": [\n          \"D_25\",\n          \"D_30\",\n          \"WW_25\"\n        ],\n        \"semantic_type\": \"\",\n        \"description\": \"\"\n      }\n    },\n    {\n      \"column\": \"specie\",\n      \"properties\": {\n        \"dtype\": \"category\",\n        \"num_unique_values\": 6,\n        \"samples\": [\n          \"PT\",\n          \"CE\",\n          \"PU\"\n        ],\n        \"semantic_type\": \"\",\n        \"description\": \"\"\n      }\n    },\n    {\n      \"column\": \"water_stress\",\n      \"properties\": {\n        \"dtype\": \"category\",\n        \"num_unique_values\": 2,\n        \"samples\": [\n          \"D\",\n          \"WW\"\n        ],\n        \"semantic_type\": \"\",\n        \"description\": \"\"\n      }\n    },\n    {\n      \"column\": \"heat_stress\",\n      \"properties\": {\n        \"dtype\": \"number\",\n        \"std\": 1,\n        \"min\": 25,\n        \"max\": 30,\n        \"num_unique_values\": 2,\n        \"samples\": [\n          30,\n          25\n        ],\n        \"semantic_type\": \"\",\n        \"description\": \"\"\n      }\n    }\n  ]\n}",
       "type": "dataframe",
       "variable_name": "data_gsw"
      },
      "text/html": [
       "\n",
       "  <div id=\"df-590b8193-e7e3-448f-a538-ceaa86280faa\" class=\"colab-df-container\">\n",
       "    <div>\n",
       "<style scoped>\n",
       "    .dataframe tbody tr th:only-of-type {\n",
       "        vertical-align: middle;\n",
       "    }\n",
       "\n",
       "    .dataframe tbody tr th {\n",
       "        vertical-align: top;\n",
       "    }\n",
       "\n",
       "    .dataframe thead th {\n",
       "        text-align: right;\n",
       "    }\n",
       "</style>\n",
       "<table border=\"1\" class=\"dataframe\">\n",
       "  <thead>\n",
       "    <tr style=\"text-align: right;\">\n",
       "      <th></th>\n",
       "      <th>tree</th>\n",
       "      <th>gsw1</th>\n",
       "      <th>gsw2</th>\n",
       "      <th>gsw3</th>\n",
       "      <th>gsw4</th>\n",
       "      <th>gsw5</th>\n",
       "      <th>gsw6</th>\n",
       "      <th>gsw7</th>\n",
       "      <th>gsw8</th>\n",
       "      <th>gsw9</th>\n",
       "      <th>gsw10</th>\n",
       "      <th>gsw11</th>\n",
       "      <th>gsw12</th>\n",
       "      <th>treatment</th>\n",
       "      <th>specie</th>\n",
       "      <th>water_stress</th>\n",
       "      <th>heat_stress</th>\n",
       "    </tr>\n",
       "  </thead>\n",
       "  <tbody>\n",
       "    <tr>\n",
       "      <th>1</th>\n",
       "      <td>PT_WW_1_1</td>\n",
       "      <td>0.3316</td>\n",
       "      <td>NaN</td>\n",
       "      <td>NaN</td>\n",
       "      <td>NaN</td>\n",
       "      <td>0.6592</td>\n",
       "      <td>NaN</td>\n",
       "      <td>NaN</td>\n",
       "      <td>0.5178</td>\n",
       "      <td>NaN</td>\n",
       "      <td>NaN</td>\n",
       "      <td>NaN</td>\n",
       "      <td>0.4540</td>\n",
       "      <td>WW_25</td>\n",
       "      <td>PT</td>\n",
       "      <td>WW</td>\n",
       "      <td>25</td>\n",
       "    </tr>\n",
       "    <tr>\n",
       "      <th>2</th>\n",
       "      <td>CE_D_2_1</td>\n",
       "      <td>0.0409</td>\n",
       "      <td>NaN</td>\n",
       "      <td>NaN</td>\n",
       "      <td>NaN</td>\n",
       "      <td>0.0876</td>\n",
       "      <td>NaN</td>\n",
       "      <td>NaN</td>\n",
       "      <td>0.1379</td>\n",
       "      <td>NaN</td>\n",
       "      <td>NaN</td>\n",
       "      <td>NaN</td>\n",
       "      <td>0.1149</td>\n",
       "      <td>WW_25</td>\n",
       "      <td>CE</td>\n",
       "      <td>WW</td>\n",
       "      <td>25</td>\n",
       "    </tr>\n",
       "    <tr>\n",
       "      <th>3</th>\n",
       "      <td>TA_D_3_1</td>\n",
       "      <td>0.0205</td>\n",
       "      <td>NaN</td>\n",
       "      <td>NaN</td>\n",
       "      <td>NaN</td>\n",
       "      <td>0.0855</td>\n",
       "      <td>NaN</td>\n",
       "      <td>NaN</td>\n",
       "      <td>0.0445</td>\n",
       "      <td>NaN</td>\n",
       "      <td>NaN</td>\n",
       "      <td>NaN</td>\n",
       "      <td>0.1186</td>\n",
       "      <td>WW_25</td>\n",
       "      <td>TA</td>\n",
       "      <td>WW</td>\n",
       "      <td>25</td>\n",
       "    </tr>\n",
       "    <tr>\n",
       "      <th>4</th>\n",
       "      <td>PE_WW_4_1</td>\n",
       "      <td>0.0491</td>\n",
       "      <td>NaN</td>\n",
       "      <td>NaN</td>\n",
       "      <td>NaN</td>\n",
       "      <td>0.0195</td>\n",
       "      <td>NaN</td>\n",
       "      <td>NaN</td>\n",
       "      <td>0.0230</td>\n",
       "      <td>NaN</td>\n",
       "      <td>NaN</td>\n",
       "      <td>NaN</td>\n",
       "      <td>0.0001</td>\n",
       "      <td>WW_25</td>\n",
       "      <td>PE</td>\n",
       "      <td>WW</td>\n",
       "      <td>25</td>\n",
       "    </tr>\n",
       "    <tr>\n",
       "      <th>5</th>\n",
       "      <td>SE_WW_5_1</td>\n",
       "      <td>0.0969</td>\n",
       "      <td>NaN</td>\n",
       "      <td>NaN</td>\n",
       "      <td>NaN</td>\n",
       "      <td>0.1701</td>\n",
       "      <td>NaN</td>\n",
       "      <td>NaN</td>\n",
       "      <td>0.2207</td>\n",
       "      <td>NaN</td>\n",
       "      <td>NaN</td>\n",
       "      <td>NaN</td>\n",
       "      <td>0.1748</td>\n",
       "      <td>WW_25</td>\n",
       "      <td>SE</td>\n",
       "      <td>WW</td>\n",
       "      <td>25</td>\n",
       "    </tr>\n",
       "  </tbody>\n",
       "</table>\n",
       "</div>\n",
       "    <div class=\"colab-df-buttons\">\n",
       "\n",
       "  <div class=\"colab-df-container\">\n",
       "    <button class=\"colab-df-convert\" onclick=\"convertToInteractive('df-590b8193-e7e3-448f-a538-ceaa86280faa')\"\n",
       "            title=\"Convert this dataframe to an interactive table.\"\n",
       "            style=\"display:none;\">\n",
       "\n",
       "  <svg xmlns=\"http://www.w3.org/2000/svg\" height=\"24px\" viewBox=\"0 -960 960 960\">\n",
       "    <path d=\"M120-120v-720h720v720H120Zm60-500h600v-160H180v160Zm220 220h160v-160H400v160Zm0 220h160v-160H400v160ZM180-400h160v-160H180v160Zm440 0h160v-160H620v160ZM180-180h160v-160H180v160Zm440 0h160v-160H620v160Z\"/>\n",
       "  </svg>\n",
       "    </button>\n",
       "\n",
       "  <style>\n",
       "    .colab-df-container {\n",
       "      display:flex;\n",
       "      gap: 12px;\n",
       "    }\n",
       "\n",
       "    .colab-df-convert {\n",
       "      background-color: #E8F0FE;\n",
       "      border: none;\n",
       "      border-radius: 50%;\n",
       "      cursor: pointer;\n",
       "      display: none;\n",
       "      fill: #1967D2;\n",
       "      height: 32px;\n",
       "      padding: 0 0 0 0;\n",
       "      width: 32px;\n",
       "    }\n",
       "\n",
       "    .colab-df-convert:hover {\n",
       "      background-color: #E2EBFA;\n",
       "      box-shadow: 0px 1px 2px rgba(60, 64, 67, 0.3), 0px 1px 3px 1px rgba(60, 64, 67, 0.15);\n",
       "      fill: #174EA6;\n",
       "    }\n",
       "\n",
       "    .colab-df-buttons div {\n",
       "      margin-bottom: 4px;\n",
       "    }\n",
       "\n",
       "    [theme=dark] .colab-df-convert {\n",
       "      background-color: #3B4455;\n",
       "      fill: #D2E3FC;\n",
       "    }\n",
       "\n",
       "    [theme=dark] .colab-df-convert:hover {\n",
       "      background-color: #434B5C;\n",
       "      box-shadow: 0px 1px 3px 1px rgba(0, 0, 0, 0.15);\n",
       "      filter: drop-shadow(0px 1px 2px rgba(0, 0, 0, 0.3));\n",
       "      fill: #FFFFFF;\n",
       "    }\n",
       "  </style>\n",
       "\n",
       "    <script>\n",
       "      const buttonEl =\n",
       "        document.querySelector('#df-590b8193-e7e3-448f-a538-ceaa86280faa button.colab-df-convert');\n",
       "      buttonEl.style.display =\n",
       "        google.colab.kernel.accessAllowed ? 'block' : 'none';\n",
       "\n",
       "      async function convertToInteractive(key) {\n",
       "        const element = document.querySelector('#df-590b8193-e7e3-448f-a538-ceaa86280faa');\n",
       "        const dataTable =\n",
       "          await google.colab.kernel.invokeFunction('convertToInteractive',\n",
       "                                                    [key], {});\n",
       "        if (!dataTable) return;\n",
       "\n",
       "        const docLinkHtml = 'Like what you see? Visit the ' +\n",
       "          '<a target=\"_blank\" href=https://colab.research.google.com/notebooks/data_table.ipynb>data table notebook</a>'\n",
       "          + ' to learn more about interactive tables.';\n",
       "        element.innerHTML = '';\n",
       "        dataTable['output_type'] = 'display_data';\n",
       "        await google.colab.output.renderOutput(dataTable, element);\n",
       "        const docLink = document.createElement('div');\n",
       "        docLink.innerHTML = docLinkHtml;\n",
       "        element.appendChild(docLink);\n",
       "      }\n",
       "    </script>\n",
       "  </div>\n",
       "\n",
       "\n",
       "<div id=\"df-b013506b-9533-4ac8-88b7-d002ea3700ae\">\n",
       "  <button class=\"colab-df-quickchart\" onclick=\"quickchart('df-b013506b-9533-4ac8-88b7-d002ea3700ae')\"\n",
       "            title=\"Suggest charts\"\n",
       "            style=\"display:none;\">\n",
       "\n",
       "<svg xmlns=\"http://www.w3.org/2000/svg\" height=\"24px\"viewBox=\"0 0 24 24\"\n",
       "     width=\"24px\">\n",
       "    <g>\n",
       "        <path d=\"M19 3H5c-1.1 0-2 .9-2 2v14c0 1.1.9 2 2 2h14c1.1 0 2-.9 2-2V5c0-1.1-.9-2-2-2zM9 17H7v-7h2v7zm4 0h-2V7h2v10zm4 0h-2v-4h2v4z\"/>\n",
       "    </g>\n",
       "</svg>\n",
       "  </button>\n",
       "\n",
       "<style>\n",
       "  .colab-df-quickchart {\n",
       "      --bg-color: #E8F0FE;\n",
       "      --fill-color: #1967D2;\n",
       "      --hover-bg-color: #E2EBFA;\n",
       "      --hover-fill-color: #174EA6;\n",
       "      --disabled-fill-color: #AAA;\n",
       "      --disabled-bg-color: #DDD;\n",
       "  }\n",
       "\n",
       "  [theme=dark] .colab-df-quickchart {\n",
       "      --bg-color: #3B4455;\n",
       "      --fill-color: #D2E3FC;\n",
       "      --hover-bg-color: #434B5C;\n",
       "      --hover-fill-color: #FFFFFF;\n",
       "      --disabled-bg-color: #3B4455;\n",
       "      --disabled-fill-color: #666;\n",
       "  }\n",
       "\n",
       "  .colab-df-quickchart {\n",
       "    background-color: var(--bg-color);\n",
       "    border: none;\n",
       "    border-radius: 50%;\n",
       "    cursor: pointer;\n",
       "    display: none;\n",
       "    fill: var(--fill-color);\n",
       "    height: 32px;\n",
       "    padding: 0;\n",
       "    width: 32px;\n",
       "  }\n",
       "\n",
       "  .colab-df-quickchart:hover {\n",
       "    background-color: var(--hover-bg-color);\n",
       "    box-shadow: 0 1px 2px rgba(60, 64, 67, 0.3), 0 1px 3px 1px rgba(60, 64, 67, 0.15);\n",
       "    fill: var(--button-hover-fill-color);\n",
       "  }\n",
       "\n",
       "  .colab-df-quickchart-complete:disabled,\n",
       "  .colab-df-quickchart-complete:disabled:hover {\n",
       "    background-color: var(--disabled-bg-color);\n",
       "    fill: var(--disabled-fill-color);\n",
       "    box-shadow: none;\n",
       "  }\n",
       "\n",
       "  .colab-df-spinner {\n",
       "    border: 2px solid var(--fill-color);\n",
       "    border-color: transparent;\n",
       "    border-bottom-color: var(--fill-color);\n",
       "    animation:\n",
       "      spin 1s steps(1) infinite;\n",
       "  }\n",
       "\n",
       "  @keyframes spin {\n",
       "    0% {\n",
       "      border-color: transparent;\n",
       "      border-bottom-color: var(--fill-color);\n",
       "      border-left-color: var(--fill-color);\n",
       "    }\n",
       "    20% {\n",
       "      border-color: transparent;\n",
       "      border-left-color: var(--fill-color);\n",
       "      border-top-color: var(--fill-color);\n",
       "    }\n",
       "    30% {\n",
       "      border-color: transparent;\n",
       "      border-left-color: var(--fill-color);\n",
       "      border-top-color: var(--fill-color);\n",
       "      border-right-color: var(--fill-color);\n",
       "    }\n",
       "    40% {\n",
       "      border-color: transparent;\n",
       "      border-right-color: var(--fill-color);\n",
       "      border-top-color: var(--fill-color);\n",
       "    }\n",
       "    60% {\n",
       "      border-color: transparent;\n",
       "      border-right-color: var(--fill-color);\n",
       "    }\n",
       "    80% {\n",
       "      border-color: transparent;\n",
       "      border-right-color: var(--fill-color);\n",
       "      border-bottom-color: var(--fill-color);\n",
       "    }\n",
       "    90% {\n",
       "      border-color: transparent;\n",
       "      border-bottom-color: var(--fill-color);\n",
       "    }\n",
       "  }\n",
       "</style>\n",
       "\n",
       "  <script>\n",
       "    async function quickchart(key) {\n",
       "      const quickchartButtonEl =\n",
       "        document.querySelector('#' + key + ' button');\n",
       "      quickchartButtonEl.disabled = true;  // To prevent multiple clicks.\n",
       "      quickchartButtonEl.classList.add('colab-df-spinner');\n",
       "      try {\n",
       "        const charts = await google.colab.kernel.invokeFunction(\n",
       "            'suggestCharts', [key], {});\n",
       "      } catch (error) {\n",
       "        console.error('Error during call to suggestCharts:', error);\n",
       "      }\n",
       "      quickchartButtonEl.classList.remove('colab-df-spinner');\n",
       "      quickchartButtonEl.classList.add('colab-df-quickchart-complete');\n",
       "    }\n",
       "    (() => {\n",
       "      let quickchartButtonEl =\n",
       "        document.querySelector('#df-b013506b-9533-4ac8-88b7-d002ea3700ae button');\n",
       "      quickchartButtonEl.style.display =\n",
       "        google.colab.kernel.accessAllowed ? 'block' : 'none';\n",
       "    })();\n",
       "  </script>\n",
       "</div>\n",
       "\n",
       "    </div>\n",
       "  </div>\n"
      ],
      "text/plain": [
       "        tree    gsw1  gsw2  gsw3  gsw4    gsw5  gsw6  gsw7    gsw8  gsw9  \\\n",
       "1  PT_WW_1_1  0.3316   NaN   NaN   NaN  0.6592   NaN   NaN  0.5178   NaN   \n",
       "2   CE_D_2_1  0.0409   NaN   NaN   NaN  0.0876   NaN   NaN  0.1379   NaN   \n",
       "3   TA_D_3_1  0.0205   NaN   NaN   NaN  0.0855   NaN   NaN  0.0445   NaN   \n",
       "4  PE_WW_4_1  0.0491   NaN   NaN   NaN  0.0195   NaN   NaN  0.0230   NaN   \n",
       "5  SE_WW_5_1  0.0969   NaN   NaN   NaN  0.1701   NaN   NaN  0.2207   NaN   \n",
       "\n",
       "   gsw10  gsw11   gsw12 treatment specie water_stress  heat_stress  \n",
       "1    NaN    NaN  0.4540     WW_25     PT           WW           25  \n",
       "2    NaN    NaN  0.1149     WW_25     CE           WW           25  \n",
       "3    NaN    NaN  0.1186     WW_25     TA           WW           25  \n",
       "4    NaN    NaN  0.0001     WW_25     PE           WW           25  \n",
       "5    NaN    NaN  0.1748     WW_25     SE           WW           25  "
      ]
     },
     "execution_count": 4,
     "metadata": {},
     "output_type": "execute_result"
    }
   ],
   "source": [
    "data_gsw = pd.read_csv(fichier_csv, index_col='Unnamed: 0')\n",
    "data_gsw.head()"
   ]
  },
  {
   "cell_type": "markdown",
   "metadata": {
    "id": "jq2UTUnYZZtY"
   },
   "source": [
    "On transforme la colonne correspondant au traitement hydrique : WW ou D, en deux colonnes binaires D (qui prend les instances 0 ou 1) et WW (qui prend les instances 0 ou 1)."
   ]
  },
  {
   "cell_type": "code",
   "execution_count": null,
   "metadata": {
    "colab": {
     "base_uri": "https://localhost:8080/",
     "height": 206
    },
    "id": "YPN03Uj8VMSn",
    "outputId": "d43a1502-df0e-4e0e-995f-8e7c41c5e44c"
   },
   "outputs": [
    {
     "data": {
      "application/vnd.google.colaboratory.intrinsic+json": {
       "summary": "{\n  \"name\": \"data_gsw_wide\",\n  \"rows\": 1440,\n  \"fields\": [\n    {\n      \"column\": \"tree\",\n      \"properties\": {\n        \"dtype\": \"category\",\n        \"num_unique_values\": 144,\n        \"samples\": [\n          \"SE_WW_5_2\",\n          \"CE_WW_56_2\",\n          \"PU_D_6_1\"\n        ],\n        \"semantic_type\": \"\",\n        \"description\": \"\"\n      }\n    },\n    {\n      \"column\": \"gsw1\",\n      \"properties\": {\n        \"dtype\": \"number\",\n        \"std\": 0.18400194874207057,\n        \"min\": 0.0,\n        \"max\": 0.890069963,\n        \"num_unique_values\": 1169,\n        \"samples\": [\n          0.0485,\n          0.0141,\n          0.1743\n        ],\n        \"semantic_type\": \"\",\n        \"description\": \"\"\n      }\n    },\n    {\n      \"column\": \"gsw2\",\n      \"properties\": {\n        \"dtype\": \"number\",\n        \"std\": 0.15799358487002943,\n        \"min\": 0.0,\n        \"max\": 0.952,\n        \"num_unique_values\": 603,\n        \"samples\": [\n          0.0742,\n          0.017,\n          0.0871\n        ],\n        \"semantic_type\": \"\",\n        \"description\": \"\"\n      }\n    },\n    {\n      \"column\": \"gsw3\",\n      \"properties\": {\n        \"dtype\": \"number\",\n        \"std\": 0.13446793818043473,\n        \"min\": 0.0,\n        \"max\": 0.7519,\n        \"num_unique_values\": 521,\n        \"samples\": [\n          0.1595,\n          0.6073,\n          0.0131\n        ],\n        \"semantic_type\": \"\",\n        \"description\": \"\"\n      }\n    },\n    {\n      \"column\": \"gsw4\",\n      \"properties\": {\n        \"dtype\": \"number\",\n        \"std\": 0.09791372410659459,\n        \"min\": 0.0,\n        \"max\": 0.9675,\n        \"num_unique_values\": 262,\n        \"samples\": [\n          0.3324,\n          0.0292,\n          0.006\n        ],\n        \"semantic_type\": \"\",\n        \"description\": \"\"\n      }\n    },\n    {\n      \"column\": \"gsw5\",\n      \"properties\": {\n        \"dtype\": \"number\",\n        \"std\": 0.1699073174996147,\n        \"min\": 0.0,\n        \"max\": 0.9392,\n        \"num_unique_values\": 622,\n        \"samples\": [\n          0.3942,\n          0.4297,\n          0.1347\n        ],\n        \"semantic_type\": \"\",\n        \"description\": \"\"\n      }\n    },\n    {\n      \"column\": \"gsw6\",\n      \"properties\": {\n        \"dtype\": \"number\",\n        \"std\": 0.14521334269190322,\n        \"min\": 0.0,\n        \"max\": 0.7873,\n        \"num_unique_values\": 517,\n        \"samples\": [\n          0.1173,\n          0.1268,\n          0.1273\n        ],\n        \"semantic_type\": \"\",\n        \"description\": \"\"\n      }\n    },\n    {\n      \"column\": \"gsw7\",\n      \"properties\": {\n        \"dtype\": \"number\",\n        \"std\": 0.0682940934988442,\n        \"min\": 0.0,\n        \"max\": 0.821831888,\n        \"num_unique_values\": 139,\n        \"samples\": [\n          0.054604506,\n          0.185153504,\n          0.187396408\n        ],\n        \"semantic_type\": \"\",\n        \"description\": \"\"\n      }\n    },\n    {\n      \"column\": \"gsw8\",\n      \"properties\": {\n        \"dtype\": \"number\",\n        \"std\": 0.15473002505350303,\n        \"min\": 0.0,\n        \"max\": 0.89,\n        \"num_unique_values\": 531,\n        \"samples\": [\n          0.1186,\n          0.1428,\n          0.0389\n        ],\n        \"semantic_type\": \"\",\n        \"description\": \"\"\n      }\n    },\n    {\n      \"column\": \"gsw9\",\n      \"properties\": {\n        \"dtype\": \"number\",\n        \"std\": 0.11849455882805529,\n        \"min\": 0.0,\n        \"max\": 0.7624,\n        \"num_unique_values\": 273,\n        \"samples\": [\n          0.359,\n          0.4098,\n          0.4633\n        ],\n        \"semantic_type\": \"\",\n        \"description\": \"\"\n      }\n    },\n    {\n      \"column\": \"gsw10\",\n      \"properties\": {\n        \"dtype\": \"number\",\n        \"std\": 0.10352295992371581,\n        \"min\": 0.0,\n        \"max\": 0.9215,\n        \"num_unique_values\": 136,\n        \"samples\": [\n          0.5784,\n          0.5737,\n          0.0846\n        ],\n        \"semantic_type\": \"\",\n        \"description\": \"\"\n      }\n    },\n    {\n      \"column\": \"gsw11\",\n      \"properties\": {\n        \"dtype\": \"number\",\n        \"std\": 0.0851231848164409,\n        \"min\": 0.0,\n        \"max\": 0.7402,\n        \"num_unique_values\": 138,\n        \"samples\": [\n          0.2066,\n          0.2586,\n          0.2688\n        ],\n        \"semantic_type\": \"\",\n        \"description\": \"\"\n      }\n    },\n    {\n      \"column\": \"gsw12\",\n      \"properties\": {\n        \"dtype\": \"number\",\n        \"std\": 0.09152239118685528,\n        \"min\": 0.0,\n        \"max\": 0.7993,\n        \"num_unique_values\": 135,\n        \"samples\": [\n          0.2436,\n          0.5924,\n          0.2379\n        ],\n        \"semantic_type\": \"\",\n        \"description\": \"\"\n      }\n    },\n    {\n      \"column\": \"specie\",\n      \"properties\": {\n        \"dtype\": \"category\",\n        \"num_unique_values\": 6,\n        \"samples\": [\n          \"CE\",\n          \"PE\",\n          \"TA\"\n        ],\n        \"semantic_type\": \"\",\n        \"description\": \"\"\n      }\n    },\n    {\n      \"column\": \"heat_stress\",\n      \"properties\": {\n        \"dtype\": \"number\",\n        \"std\": 1,\n        \"min\": 25,\n        \"max\": 30,\n        \"num_unique_values\": 2,\n        \"samples\": [\n          30,\n          25\n        ],\n        \"semantic_type\": \"\",\n        \"description\": \"\"\n      }\n    },\n    {\n      \"column\": \"D\",\n      \"properties\": {\n        \"dtype\": \"number\",\n        \"std\": 0.4584167696287505,\n        \"min\": 0.0,\n        \"max\": 1.0,\n        \"num_unique_values\": 2,\n        \"samples\": [\n          0.0,\n          1.0\n        ],\n        \"semantic_type\": \"\",\n        \"description\": \"\"\n      }\n    },\n    {\n      \"column\": \"WW\",\n      \"properties\": {\n        \"dtype\": \"number\",\n        \"std\": 0.4584167696287505,\n        \"min\": 0.0,\n        \"max\": 1.0,\n        \"num_unique_values\": 2,\n        \"samples\": [\n          1.0,\n          0.0\n        ],\n        \"semantic_type\": \"\",\n        \"description\": \"\"\n      }\n    }\n  ]\n}",
       "type": "dataframe",
       "variable_name": "data_gsw_wide"
      },
      "text/html": [
       "\n",
       "  <div id=\"df-720d7333-cfb1-49e9-ae03-f09c2da707dc\" class=\"colab-df-container\">\n",
       "    <div>\n",
       "<style scoped>\n",
       "    .dataframe tbody tr th:only-of-type {\n",
       "        vertical-align: middle;\n",
       "    }\n",
       "\n",
       "    .dataframe tbody tr th {\n",
       "        vertical-align: top;\n",
       "    }\n",
       "\n",
       "    .dataframe thead th {\n",
       "        text-align: right;\n",
       "    }\n",
       "</style>\n",
       "<table border=\"1\" class=\"dataframe\">\n",
       "  <thead>\n",
       "    <tr style=\"text-align: right;\">\n",
       "      <th>water_stress</th>\n",
       "      <th>tree</th>\n",
       "      <th>gsw1</th>\n",
       "      <th>gsw2</th>\n",
       "      <th>gsw3</th>\n",
       "      <th>gsw4</th>\n",
       "      <th>gsw5</th>\n",
       "      <th>gsw6</th>\n",
       "      <th>gsw7</th>\n",
       "      <th>gsw8</th>\n",
       "      <th>gsw9</th>\n",
       "      <th>gsw10</th>\n",
       "      <th>gsw11</th>\n",
       "      <th>gsw12</th>\n",
       "      <th>specie</th>\n",
       "      <th>heat_stress</th>\n",
       "      <th>D</th>\n",
       "      <th>WW</th>\n",
       "    </tr>\n",
       "  </thead>\n",
       "  <tbody>\n",
       "    <tr>\n",
       "      <th>0</th>\n",
       "      <td>CE_D_14_1</td>\n",
       "      <td>0.035600</td>\n",
       "      <td>0.0257</td>\n",
       "      <td>0.0000</td>\n",
       "      <td>0.0642</td>\n",
       "      <td>0.0000</td>\n",
       "      <td>0.0388</td>\n",
       "      <td>0.000000</td>\n",
       "      <td>0.0000</td>\n",
       "      <td>0.0000</td>\n",
       "      <td>0.000</td>\n",
       "      <td>0.0</td>\n",
       "      <td>0.0</td>\n",
       "      <td>CE</td>\n",
       "      <td>25</td>\n",
       "      <td>1.0</td>\n",
       "      <td>0.0</td>\n",
       "    </tr>\n",
       "    <tr>\n",
       "      <th>1</th>\n",
       "      <td>CE_D_14_1</td>\n",
       "      <td>0.039100</td>\n",
       "      <td>0.0648</td>\n",
       "      <td>0.0000</td>\n",
       "      <td>0.0000</td>\n",
       "      <td>0.0000</td>\n",
       "      <td>0.0000</td>\n",
       "      <td>0.028136</td>\n",
       "      <td>0.0000</td>\n",
       "      <td>0.0078</td>\n",
       "      <td>0.000</td>\n",
       "      <td>0.0</td>\n",
       "      <td>0.0</td>\n",
       "      <td>CE</td>\n",
       "      <td>25</td>\n",
       "      <td>1.0</td>\n",
       "      <td>0.0</td>\n",
       "    </tr>\n",
       "    <tr>\n",
       "      <th>2</th>\n",
       "      <td>CE_D_14_1</td>\n",
       "      <td>0.044100</td>\n",
       "      <td>0.0000</td>\n",
       "      <td>0.0942</td>\n",
       "      <td>0.0000</td>\n",
       "      <td>0.0462</td>\n",
       "      <td>0.0000</td>\n",
       "      <td>0.000000</td>\n",
       "      <td>0.0000</td>\n",
       "      <td>0.0000</td>\n",
       "      <td>0.045</td>\n",
       "      <td>0.0</td>\n",
       "      <td>0.0</td>\n",
       "      <td>CE</td>\n",
       "      <td>25</td>\n",
       "      <td>1.0</td>\n",
       "      <td>0.0</td>\n",
       "    </tr>\n",
       "    <tr>\n",
       "      <th>3</th>\n",
       "      <td>CE_D_14_1</td>\n",
       "      <td>0.054126</td>\n",
       "      <td>0.0000</td>\n",
       "      <td>0.0000</td>\n",
       "      <td>0.0126</td>\n",
       "      <td>0.0000</td>\n",
       "      <td>0.0322</td>\n",
       "      <td>0.000000</td>\n",
       "      <td>0.0228</td>\n",
       "      <td>0.0000</td>\n",
       "      <td>0.000</td>\n",
       "      <td>0.0</td>\n",
       "      <td>0.0</td>\n",
       "      <td>CE</td>\n",
       "      <td>25</td>\n",
       "      <td>1.0</td>\n",
       "      <td>0.0</td>\n",
       "    </tr>\n",
       "    <tr>\n",
       "      <th>4</th>\n",
       "      <td>CE_D_14_1</td>\n",
       "      <td>0.057600</td>\n",
       "      <td>0.1090</td>\n",
       "      <td>0.1441</td>\n",
       "      <td>0.0000</td>\n",
       "      <td>0.0000</td>\n",
       "      <td>0.1320</td>\n",
       "      <td>0.000000</td>\n",
       "      <td>0.0000</td>\n",
       "      <td>0.0000</td>\n",
       "      <td>0.000</td>\n",
       "      <td>0.0</td>\n",
       "      <td>0.0</td>\n",
       "      <td>CE</td>\n",
       "      <td>25</td>\n",
       "      <td>1.0</td>\n",
       "      <td>0.0</td>\n",
       "    </tr>\n",
       "  </tbody>\n",
       "</table>\n",
       "</div>\n",
       "    <div class=\"colab-df-buttons\">\n",
       "\n",
       "  <div class=\"colab-df-container\">\n",
       "    <button class=\"colab-df-convert\" onclick=\"convertToInteractive('df-720d7333-cfb1-49e9-ae03-f09c2da707dc')\"\n",
       "            title=\"Convert this dataframe to an interactive table.\"\n",
       "            style=\"display:none;\">\n",
       "\n",
       "  <svg xmlns=\"http://www.w3.org/2000/svg\" height=\"24px\" viewBox=\"0 -960 960 960\">\n",
       "    <path d=\"M120-120v-720h720v720H120Zm60-500h600v-160H180v160Zm220 220h160v-160H400v160Zm0 220h160v-160H400v160ZM180-400h160v-160H180v160Zm440 0h160v-160H620v160ZM180-180h160v-160H180v160Zm440 0h160v-160H620v160Z\"/>\n",
       "  </svg>\n",
       "    </button>\n",
       "\n",
       "  <style>\n",
       "    .colab-df-container {\n",
       "      display:flex;\n",
       "      gap: 12px;\n",
       "    }\n",
       "\n",
       "    .colab-df-convert {\n",
       "      background-color: #E8F0FE;\n",
       "      border: none;\n",
       "      border-radius: 50%;\n",
       "      cursor: pointer;\n",
       "      display: none;\n",
       "      fill: #1967D2;\n",
       "      height: 32px;\n",
       "      padding: 0 0 0 0;\n",
       "      width: 32px;\n",
       "    }\n",
       "\n",
       "    .colab-df-convert:hover {\n",
       "      background-color: #E2EBFA;\n",
       "      box-shadow: 0px 1px 2px rgba(60, 64, 67, 0.3), 0px 1px 3px 1px rgba(60, 64, 67, 0.15);\n",
       "      fill: #174EA6;\n",
       "    }\n",
       "\n",
       "    .colab-df-buttons div {\n",
       "      margin-bottom: 4px;\n",
       "    }\n",
       "\n",
       "    [theme=dark] .colab-df-convert {\n",
       "      background-color: #3B4455;\n",
       "      fill: #D2E3FC;\n",
       "    }\n",
       "\n",
       "    [theme=dark] .colab-df-convert:hover {\n",
       "      background-color: #434B5C;\n",
       "      box-shadow: 0px 1px 3px 1px rgba(0, 0, 0, 0.15);\n",
       "      filter: drop-shadow(0px 1px 2px rgba(0, 0, 0, 0.3));\n",
       "      fill: #FFFFFF;\n",
       "    }\n",
       "  </style>\n",
       "\n",
       "    <script>\n",
       "      const buttonEl =\n",
       "        document.querySelector('#df-720d7333-cfb1-49e9-ae03-f09c2da707dc button.colab-df-convert');\n",
       "      buttonEl.style.display =\n",
       "        google.colab.kernel.accessAllowed ? 'block' : 'none';\n",
       "\n",
       "      async function convertToInteractive(key) {\n",
       "        const element = document.querySelector('#df-720d7333-cfb1-49e9-ae03-f09c2da707dc');\n",
       "        const dataTable =\n",
       "          await google.colab.kernel.invokeFunction('convertToInteractive',\n",
       "                                                    [key], {});\n",
       "        if (!dataTable) return;\n",
       "\n",
       "        const docLinkHtml = 'Like what you see? Visit the ' +\n",
       "          '<a target=\"_blank\" href=https://colab.research.google.com/notebooks/data_table.ipynb>data table notebook</a>'\n",
       "          + ' to learn more about interactive tables.';\n",
       "        element.innerHTML = '';\n",
       "        dataTable['output_type'] = 'display_data';\n",
       "        await google.colab.output.renderOutput(dataTable, element);\n",
       "        const docLink = document.createElement('div');\n",
       "        docLink.innerHTML = docLinkHtml;\n",
       "        element.appendChild(docLink);\n",
       "      }\n",
       "    </script>\n",
       "  </div>\n",
       "\n",
       "\n",
       "<div id=\"df-b55fea16-7202-479a-b0b8-f4d44b735752\">\n",
       "  <button class=\"colab-df-quickchart\" onclick=\"quickchart('df-b55fea16-7202-479a-b0b8-f4d44b735752')\"\n",
       "            title=\"Suggest charts\"\n",
       "            style=\"display:none;\">\n",
       "\n",
       "<svg xmlns=\"http://www.w3.org/2000/svg\" height=\"24px\"viewBox=\"0 0 24 24\"\n",
       "     width=\"24px\">\n",
       "    <g>\n",
       "        <path d=\"M19 3H5c-1.1 0-2 .9-2 2v14c0 1.1.9 2 2 2h14c1.1 0 2-.9 2-2V5c0-1.1-.9-2-2-2zM9 17H7v-7h2v7zm4 0h-2V7h2v10zm4 0h-2v-4h2v4z\"/>\n",
       "    </g>\n",
       "</svg>\n",
       "  </button>\n",
       "\n",
       "<style>\n",
       "  .colab-df-quickchart {\n",
       "      --bg-color: #E8F0FE;\n",
       "      --fill-color: #1967D2;\n",
       "      --hover-bg-color: #E2EBFA;\n",
       "      --hover-fill-color: #174EA6;\n",
       "      --disabled-fill-color: #AAA;\n",
       "      --disabled-bg-color: #DDD;\n",
       "  }\n",
       "\n",
       "  [theme=dark] .colab-df-quickchart {\n",
       "      --bg-color: #3B4455;\n",
       "      --fill-color: #D2E3FC;\n",
       "      --hover-bg-color: #434B5C;\n",
       "      --hover-fill-color: #FFFFFF;\n",
       "      --disabled-bg-color: #3B4455;\n",
       "      --disabled-fill-color: #666;\n",
       "  }\n",
       "\n",
       "  .colab-df-quickchart {\n",
       "    background-color: var(--bg-color);\n",
       "    border: none;\n",
       "    border-radius: 50%;\n",
       "    cursor: pointer;\n",
       "    display: none;\n",
       "    fill: var(--fill-color);\n",
       "    height: 32px;\n",
       "    padding: 0;\n",
       "    width: 32px;\n",
       "  }\n",
       "\n",
       "  .colab-df-quickchart:hover {\n",
       "    background-color: var(--hover-bg-color);\n",
       "    box-shadow: 0 1px 2px rgba(60, 64, 67, 0.3), 0 1px 3px 1px rgba(60, 64, 67, 0.15);\n",
       "    fill: var(--button-hover-fill-color);\n",
       "  }\n",
       "\n",
       "  .colab-df-quickchart-complete:disabled,\n",
       "  .colab-df-quickchart-complete:disabled:hover {\n",
       "    background-color: var(--disabled-bg-color);\n",
       "    fill: var(--disabled-fill-color);\n",
       "    box-shadow: none;\n",
       "  }\n",
       "\n",
       "  .colab-df-spinner {\n",
       "    border: 2px solid var(--fill-color);\n",
       "    border-color: transparent;\n",
       "    border-bottom-color: var(--fill-color);\n",
       "    animation:\n",
       "      spin 1s steps(1) infinite;\n",
       "  }\n",
       "\n",
       "  @keyframes spin {\n",
       "    0% {\n",
       "      border-color: transparent;\n",
       "      border-bottom-color: var(--fill-color);\n",
       "      border-left-color: var(--fill-color);\n",
       "    }\n",
       "    20% {\n",
       "      border-color: transparent;\n",
       "      border-left-color: var(--fill-color);\n",
       "      border-top-color: var(--fill-color);\n",
       "    }\n",
       "    30% {\n",
       "      border-color: transparent;\n",
       "      border-left-color: var(--fill-color);\n",
       "      border-top-color: var(--fill-color);\n",
       "      border-right-color: var(--fill-color);\n",
       "    }\n",
       "    40% {\n",
       "      border-color: transparent;\n",
       "      border-right-color: var(--fill-color);\n",
       "      border-top-color: var(--fill-color);\n",
       "    }\n",
       "    60% {\n",
       "      border-color: transparent;\n",
       "      border-right-color: var(--fill-color);\n",
       "    }\n",
       "    80% {\n",
       "      border-color: transparent;\n",
       "      border-right-color: var(--fill-color);\n",
       "      border-bottom-color: var(--fill-color);\n",
       "    }\n",
       "    90% {\n",
       "      border-color: transparent;\n",
       "      border-bottom-color: var(--fill-color);\n",
       "    }\n",
       "  }\n",
       "</style>\n",
       "\n",
       "  <script>\n",
       "    async function quickchart(key) {\n",
       "      const quickchartButtonEl =\n",
       "        document.querySelector('#' + key + ' button');\n",
       "      quickchartButtonEl.disabled = true;  // To prevent multiple clicks.\n",
       "      quickchartButtonEl.classList.add('colab-df-spinner');\n",
       "      try {\n",
       "        const charts = await google.colab.kernel.invokeFunction(\n",
       "            'suggestCharts', [key], {});\n",
       "      } catch (error) {\n",
       "        console.error('Error during call to suggestCharts:', error);\n",
       "      }\n",
       "      quickchartButtonEl.classList.remove('colab-df-spinner');\n",
       "      quickchartButtonEl.classList.add('colab-df-quickchart-complete');\n",
       "    }\n",
       "    (() => {\n",
       "      let quickchartButtonEl =\n",
       "        document.querySelector('#df-b55fea16-7202-479a-b0b8-f4d44b735752 button');\n",
       "      quickchartButtonEl.style.display =\n",
       "        google.colab.kernel.accessAllowed ? 'block' : 'none';\n",
       "    })();\n",
       "  </script>\n",
       "</div>\n",
       "\n",
       "    </div>\n",
       "  </div>\n"
      ],
      "text/plain": [
       "water_stress       tree      gsw1    gsw2    gsw3    gsw4    gsw5    gsw6  \\\n",
       "0             CE_D_14_1  0.035600  0.0257  0.0000  0.0642  0.0000  0.0388   \n",
       "1             CE_D_14_1  0.039100  0.0648  0.0000  0.0000  0.0000  0.0000   \n",
       "2             CE_D_14_1  0.044100  0.0000  0.0942  0.0000  0.0462  0.0000   \n",
       "3             CE_D_14_1  0.054126  0.0000  0.0000  0.0126  0.0000  0.0322   \n",
       "4             CE_D_14_1  0.057600  0.1090  0.1441  0.0000  0.0000  0.1320   \n",
       "\n",
       "water_stress      gsw7    gsw8    gsw9  gsw10  gsw11  gsw12 specie  \\\n",
       "0             0.000000  0.0000  0.0000  0.000    0.0    0.0     CE   \n",
       "1             0.028136  0.0000  0.0078  0.000    0.0    0.0     CE   \n",
       "2             0.000000  0.0000  0.0000  0.045    0.0    0.0     CE   \n",
       "3             0.000000  0.0228  0.0000  0.000    0.0    0.0     CE   \n",
       "4             0.000000  0.0000  0.0000  0.000    0.0    0.0     CE   \n",
       "\n",
       "water_stress  heat_stress    D   WW  \n",
       "0                      25  1.0  0.0  \n",
       "1                      25  1.0  0.0  \n",
       "2                      25  1.0  0.0  \n",
       "3                      25  1.0  0.0  \n",
       "4                      25  1.0  0.0  "
      ]
     },
     "execution_count": 5,
     "metadata": {},
     "output_type": "execute_result"
    }
   ],
   "source": [
    "data_gsw[\"dummy\"] = 1\n",
    "data_gsw_wide = data_gsw.pivot(index=data_gsw.iloc[:, np.r_[0:13, 14, 16]],\n",
    "                                                             columns=[\"water_stress\"], values= \"dummy\").reset_index()\n",
    "data_gsw_wide = data_gsw_wide.fillna(0)\n",
    "data_gsw_wide.head()"
   ]
  },
  {
   "cell_type": "markdown",
   "metadata": {
    "id": "A1yoD-kgZoxW"
   },
   "source": [
    "On sélectionne les colonnes en entrée on garde seulement l'information des séries temporelles. On normalise les séries temporelles. On définit ensuite la colonne binaire D comme la sortie de l'algorithme. On sous échantillone les valeurs test (20%) par rapport aux valeurs d'entrainement."
   ]
  },
  {
   "cell_type": "code",
   "execution_count": null,
   "metadata": {
    "id": "3_gL9sx7WzwI"
   },
   "outputs": [],
   "source": [
    "scaler = StandardScaler()\n",
    "X = data_gsw_wide.iloc[:, np.r_[1:13]]\n",
    "X = pd.DataFrame(scaler.fit_transform(X), columns = X.columns)\n",
    "\n",
    "y = data_gsw_wide.iloc[:, np.r_[15]]\n",
    "\n",
    "X_train, X_test, y_train, y_test = train_test_split(X, y, test_size=0.2)"
   ]
  },
  {
   "cell_type": "markdown",
   "metadata": {
    "id": "S2vYFbuFaYzI"
   },
   "source": [
    "On calcule le déséquilibre des classes"
   ]
  },
  {
   "cell_type": "code",
   "execution_count": null,
   "metadata": {
    "colab": {
     "base_uri": "https://localhost:8080/"
    },
    "id": "Tt1wHSJ6Vs3-",
    "outputId": "71d4ede3-78d4-4f8e-e36f-0d9c6c5f76a8"
   },
   "outputs": [
    {
     "data": {
      "text/plain": [
       "Counter({0.0: 811, 1.0: 341})"
      ]
     },
     "execution_count": 7,
     "metadata": {},
     "output_type": "execute_result"
    }
   ],
   "source": [
    "y_train = y_train.values.ravel()\n",
    "counter = Counter(y_train)\n",
    "counter"
   ]
  },
  {
   "cell_type": "markdown",
   "metadata": {
    "id": "c9RXVtS-ae-r"
   },
   "source": [
    "On résout le déséquilibre en enrichissant la classes minoritaire du jeu de données par la méthode SMOTE."
   ]
  },
  {
   "cell_type": "code",
   "execution_count": null,
   "metadata": {
    "id": "pI3Jt3qlSg1u"
   },
   "outputs": [],
   "source": [
    "oversample = SMOTE()\n",
    "X_train, y_train = oversample.fit_resample(X_train, y_train)"
   ]
  },
  {
   "cell_type": "markdown",
   "metadata": {
    "id": "Cs1W1Hdkan4Y"
   },
   "source": [
    "On calcule à nouveau le déséquilibre de la classe de sortie."
   ]
  },
  {
   "cell_type": "code",
   "execution_count": null,
   "metadata": {
    "colab": {
     "base_uri": "https://localhost:8080/"
    },
    "id": "QquxT3cFSj-J",
    "outputId": "7e8ad321-2a7f-420d-b291-2855c17e01c4"
   },
   "outputs": [
    {
     "data": {
      "text/plain": [
       "Counter({0.0: 811, 1.0: 811})"
      ]
     },
     "execution_count": 9,
     "metadata": {},
     "output_type": "execute_result"
    }
   ],
   "source": [
    "counter = Counter(y_train)\n",
    "counter"
   ]
  },
  {
   "cell_type": "markdown",
   "metadata": {
    "id": "1FDd6j2eauQ-"
   },
   "source": [
    "On formate les entrées pour qu'elles soient compatibles avec la couche LSTM du réseau de neurones."
   ]
  },
  {
   "cell_type": "code",
   "execution_count": null,
   "metadata": {
    "id": "iSSlHM6gV7Al"
   },
   "outputs": [],
   "source": [
    "X_train_reshaped = np.expand_dims(X_train, axis=1)\n",
    "X_test_reshaped = np.expand_dims(X_test, axis=1)"
   ]
  },
  {
   "cell_type": "markdown",
   "metadata": {
    "id": "OlAvI2wXa5zZ"
   },
   "source": [
    "### Réseau de neurones"
   ]
  },
  {
   "cell_type": "markdown",
   "metadata": {
    "id": "gREdfb1Ra_Np"
   },
   "source": [
    "On définit l'architecture du modèle :"
   ]
  },
  {
   "cell_type": "code",
   "execution_count": null,
   "metadata": {
    "id": "Fq0uryEfWDqp"
   },
   "outputs": [],
   "source": [
    "model = Sequential([\n",
    "    LSTM(16, input_shape=(1,12), return_sequences=True),\n",
    "    Dropout(0.2),\n",
    "    LSTM(16),\n",
    "    Dropout(0.2),\n",
    "    Dense(24, activation='relu'),\n",
    "    Dense(12, activation='relu'),\n",
    "    Dense(4, activation='relu'),\n",
    "    Dense(1, activation='sigmoid')\n",
    "])"
   ]
  },
  {
   "cell_type": "markdown",
   "metadata": {
    "id": "UlsNGWz2bGFK"
   },
   "source": [
    "On visualise le nombre et le type de paramètres du modèle que l'on vient de construire."
   ]
  },
  {
   "cell_type": "code",
   "execution_count": null,
   "metadata": {
    "colab": {
     "base_uri": "https://localhost:8080/"
    },
    "id": "n4bQd01uWiDO",
    "outputId": "f4d5312a-59f1-476a-f9ba-2e0e6258a717"
   },
   "outputs": [
    {
     "name": "stdout",
     "output_type": "stream",
     "text": [
      "Model: \"sequential\"\n",
      "_________________________________________________________________\n",
      " Layer (type)                Output Shape              Param #   \n",
      "=================================================================\n",
      " lstm (LSTM)                 (None, 1, 16)             1856      \n",
      "                                                                 \n",
      " dropout (Dropout)           (None, 1, 16)             0         \n",
      "                                                                 \n",
      " lstm_1 (LSTM)               (None, 16)                2112      \n",
      "                                                                 \n",
      " dropout_1 (Dropout)         (None, 16)                0         \n",
      "                                                                 \n",
      " dense (Dense)               (None, 25)                425       \n",
      "                                                                 \n",
      " dense_1 (Dense)             (None, 10)                260       \n",
      "                                                                 \n",
      " dense_2 (Dense)             (None, 5)                 55        \n",
      "                                                                 \n",
      " dense_3 (Dense)             (None, 1)                 6         \n",
      "                                                                 \n",
      "=================================================================\n",
      "Total params: 4714 (18.41 KB)\n",
      "Trainable params: 4714 (18.41 KB)\n",
      "Non-trainable params: 0 (0.00 Byte)\n",
      "_________________________________________________________________\n"
     ]
    }
   ],
   "source": [
    "model.summary()"
   ]
  },
  {
   "cell_type": "markdown",
   "metadata": {
    "id": "L7t-0MbQbN2T"
   },
   "source": [
    "On crée une fonction qui va arrêter l'apprentissage quand la fonction de cout évaluer sur les données de validations cesse de diminuer, on enregistre alors le modèle le plus pertinent. Cette custom sert à ne pas arrêter l'entrainement durant les 10 premières périodes."
   ]
  },
  {
   "cell_type": "code",
   "execution_count": null,
   "metadata": {
    "id": "39EPlfeHWmmq"
   },
   "outputs": [],
   "source": [
    "class CustomEarlyStopping(Callback):\n",
    "    def __init__(self, patience=0, start_from_epoch=0):\n",
    "        super(CustomEarlyStopping, self).__init__()\n",
    "        self.patience = patience\n",
    "        self.wait = 0\n",
    "        self.stopped_epoch = 0\n",
    "        self.start_from_epoch = start_from_epoch\n",
    "        self.best_weights = None\n",
    "\n",
    "    def on_train_begin(self, logs=None):\n",
    "        self.wait = 0\n",
    "        self.stopped_epoch = 0\n",
    "        self.best = float('inf')\n",
    "\n",
    "    def on_epoch_end(self, epoch, logs=None):\n",
    "        current = logs.get('val_loss')\n",
    "        if epoch >= self.start_from_epoch:\n",
    "            if current is None:\n",
    "                warnings.warn('Early stopping requires validation loss to be available!', RuntimeWarning)\n",
    "\n",
    "            if np.less(current, self.best):\n",
    "                self.best = current\n",
    "                self.wait = 0\n",
    "                self.best_weights = self.model.get_weights()\n",
    "            else:\n",
    "                self.wait += 1\n",
    "                if self.wait >= self.patience:\n",
    "                    self.stopped_epoch = epoch\n",
    "                    self.model.stop_training = True\n",
    "                    self.model.set_weights(self.best_weights)\n",
    "\n",
    "    def on_train_end(self, logs=None):\n",
    "        if self.stopped_epoch > 0:\n",
    "            print(f'Restoring model weights from the end of the best epoch: {self.stopped_epoch - self.wait + 1}')\n"
   ]
  },
  {
   "cell_type": "code",
   "execution_count": null,
   "metadata": {
    "id": "2xpyi58sW4eq"
   },
   "outputs": [],
   "source": [
    "callbacks = [\n",
    "    CustomEarlyStopping(patience=10, start_from_epoch=10),\n",
    "    tf.keras.callbacks.ModelCheckpoint(filepath='best_current_model_LSTM_gsw4.h5',\n",
    "                                               save_best_only=True,\n",
    "                                               save_weights_only=False,\n",
    "                                               monitor = 'val_loss',\n",
    "                                               save_freq='epoch')]"
   ]
  },
  {
   "cell_type": "markdown",
   "metadata": {
    "id": "qGiR-aZFbsBi"
   },
   "source": [
    "On compile le modèle en définissant la fonction de cout : binary_crossentropy, la méthode de descente du gradient : adam (pas par défaut 0.001), et la métrique d'évaluation : accuracy."
   ]
  },
  {
   "cell_type": "code",
   "execution_count": null,
   "metadata": {
    "id": "Auz3uTJDWsUp"
   },
   "outputs": [],
   "source": [
    "model.compile(optimizer='adam', loss='binary_crossentropy', metrics=['accuracy'])"
   ]
  },
  {
   "cell_type": "markdown",
   "metadata": {
    "id": "FJ1y1J-wcF54"
   },
   "source": [
    "On entraine le modèle sur les données, pendant un temps maximum de 200 époques et avec une taille de batch = 32."
   ]
  },
  {
   "cell_type": "code",
   "execution_count": null,
   "metadata": {
    "colab": {
     "base_uri": "https://localhost:8080/"
    },
    "id": "FxkZOBd8Wvi6",
    "outputId": "062efd7e-530c-4067-89ad-283e23a17276"
   },
   "outputs": [
    {
     "name": "stdout",
     "output_type": "stream",
     "text": [
      "Epoch 1/200\n",
      "41/41 [==============================] - 7s 40ms/step - loss: 0.6862 - accuracy: 0.6191 - val_loss: 0.7236 - val_accuracy: 0.0000e+00\n",
      "Epoch 2/200\n",
      "16/41 [==========>...................] - ETA: 0s - loss: 0.6699 - accuracy: 0.6797"
     ]
    },
    {
     "name": "stderr",
     "output_type": "stream",
     "text": [
      "/usr/local/lib/python3.10/dist-packages/keras/src/engine/training.py:3103: UserWarning: You are saving your model as an HDF5 file via `model.save()`. This file format is considered legacy. We recommend using instead the native Keras format, e.g. `model.save('my_model.keras')`.\n",
      "  saving_api.save_model(\n"
     ]
    },
    {
     "name": "stdout",
     "output_type": "stream",
     "text": [
      "41/41 [==============================] - 0s 11ms/step - loss: 0.6620 - accuracy: 0.7032 - val_loss: 0.6792 - val_accuracy: 0.6431\n",
      "Epoch 3/200\n",
      "41/41 [==============================] - 0s 11ms/step - loss: 0.6069 - accuracy: 0.7371 - val_loss: 0.6141 - val_accuracy: 0.7354\n",
      "Epoch 4/200\n",
      "41/41 [==============================] - 0s 10ms/step - loss: 0.5389 - accuracy: 0.7579 - val_loss: 0.6520 - val_accuracy: 0.6892\n",
      "Epoch 5/200\n",
      "41/41 [==============================] - 0s 10ms/step - loss: 0.4979 - accuracy: 0.7571 - val_loss: 0.6475 - val_accuracy: 0.7077\n",
      "Epoch 6/200\n",
      "41/41 [==============================] - 0s 12ms/step - loss: 0.4789 - accuracy: 0.7672 - val_loss: 0.5920 - val_accuracy: 0.7692\n",
      "Epoch 7/200\n",
      "41/41 [==============================] - 0s 11ms/step - loss: 0.4703 - accuracy: 0.7672 - val_loss: 0.5077 - val_accuracy: 0.8215\n",
      "Epoch 8/200\n",
      "41/41 [==============================] - 0s 7ms/step - loss: 0.4607 - accuracy: 0.7733 - val_loss: 0.5865 - val_accuracy: 0.7785\n",
      "Epoch 9/200\n",
      "41/41 [==============================] - 0s 7ms/step - loss: 0.4519 - accuracy: 0.7702 - val_loss: 0.5466 - val_accuracy: 0.7877\n",
      "Epoch 10/200\n",
      "41/41 [==============================] - 0s 6ms/step - loss: 0.4466 - accuracy: 0.7887 - val_loss: 0.5478 - val_accuracy: 0.7938\n",
      "Epoch 11/200\n",
      "41/41 [==============================] - 0s 8ms/step - loss: 0.4396 - accuracy: 0.7957 - val_loss: 0.4846 - val_accuracy: 0.8123\n",
      "Epoch 12/200\n",
      "41/41 [==============================] - 0s 7ms/step - loss: 0.4417 - accuracy: 0.7826 - val_loss: 0.5460 - val_accuracy: 0.7938\n",
      "Epoch 13/200\n",
      "41/41 [==============================] - 0s 7ms/step - loss: 0.4400 - accuracy: 0.7857 - val_loss: 0.4748 - val_accuracy: 0.8215\n",
      "Epoch 14/200\n",
      "41/41 [==============================] - 0s 7ms/step - loss: 0.4357 - accuracy: 0.7887 - val_loss: 0.5048 - val_accuracy: 0.8092\n",
      "Epoch 15/200\n",
      "41/41 [==============================] - 0s 8ms/step - loss: 0.4327 - accuracy: 0.7779 - val_loss: 0.4601 - val_accuracy: 0.8277\n",
      "Epoch 16/200\n",
      "41/41 [==============================] - 0s 6ms/step - loss: 0.4185 - accuracy: 0.7934 - val_loss: 0.5134 - val_accuracy: 0.8031\n",
      "Epoch 17/200\n",
      "41/41 [==============================] - 0s 6ms/step - loss: 0.4236 - accuracy: 0.7903 - val_loss: 0.4947 - val_accuracy: 0.8185\n",
      "Epoch 18/200\n",
      "41/41 [==============================] - 0s 7ms/step - loss: 0.4223 - accuracy: 0.7903 - val_loss: 0.5233 - val_accuracy: 0.7969\n",
      "Epoch 19/200\n",
      "41/41 [==============================] - 0s 7ms/step - loss: 0.4178 - accuracy: 0.7965 - val_loss: 0.4803 - val_accuracy: 0.8154\n",
      "Epoch 20/200\n",
      "41/41 [==============================] - 0s 8ms/step - loss: 0.4161 - accuracy: 0.7895 - val_loss: 0.4465 - val_accuracy: 0.8246\n",
      "Epoch 21/200\n",
      "41/41 [==============================] - 0s 8ms/step - loss: 0.4160 - accuracy: 0.7911 - val_loss: 0.3887 - val_accuracy: 0.8523\n",
      "Epoch 22/200\n",
      "41/41 [==============================] - 0s 7ms/step - loss: 0.4159 - accuracy: 0.7926 - val_loss: 0.4704 - val_accuracy: 0.8215\n",
      "Epoch 23/200\n",
      "41/41 [==============================] - 0s 6ms/step - loss: 0.4041 - accuracy: 0.7995 - val_loss: 0.4419 - val_accuracy: 0.8400\n",
      "Epoch 24/200\n",
      "41/41 [==============================] - 0s 6ms/step - loss: 0.4096 - accuracy: 0.7934 - val_loss: 0.4438 - val_accuracy: 0.8431\n",
      "Epoch 25/200\n",
      "41/41 [==============================] - 0s 7ms/step - loss: 0.4104 - accuracy: 0.8011 - val_loss: 0.4323 - val_accuracy: 0.8462\n",
      "Epoch 26/200\n",
      "41/41 [==============================] - 0s 7ms/step - loss: 0.4064 - accuracy: 0.7972 - val_loss: 0.4695 - val_accuracy: 0.8246\n",
      "Epoch 27/200\n",
      "41/41 [==============================] - 0s 7ms/step - loss: 0.4083 - accuracy: 0.7941 - val_loss: 0.4065 - val_accuracy: 0.8677\n",
      "Epoch 28/200\n",
      "41/41 [==============================] - 0s 7ms/step - loss: 0.4004 - accuracy: 0.8034 - val_loss: 0.4399 - val_accuracy: 0.8554\n",
      "Epoch 29/200\n",
      "41/41 [==============================] - 0s 6ms/step - loss: 0.4045 - accuracy: 0.8003 - val_loss: 0.4402 - val_accuracy: 0.8523\n",
      "Epoch 30/200\n",
      "41/41 [==============================] - 0s 6ms/step - loss: 0.3967 - accuracy: 0.7965 - val_loss: 0.4009 - val_accuracy: 0.8708\n",
      "Epoch 31/200\n",
      "41/41 [==============================] - 0s 6ms/step - loss: 0.4030 - accuracy: 0.7949 - val_loss: 0.4404 - val_accuracy: 0.8462\n",
      "Restoring model weights from the end of the best epoch: 21\n"
     ]
    }
   ],
   "source": [
    "history = model.fit(X_train_reshaped, y_train, epochs=200, batch_size=32, validation_split=0.2, callbacks=callbacks)"
   ]
  },
  {
   "cell_type": "markdown",
   "metadata": {
    "id": "cS3OpsBVcUK6"
   },
   "source": [
    "On représente l'évolution de la fonction de cout durant l'entrainement."
   ]
  },
  {
   "cell_type": "code",
   "execution_count": null,
   "metadata": {
    "colab": {
     "base_uri": "https://localhost:8080/",
     "height": 490
    },
    "id": "qEfxhxTTW-Bo",
    "outputId": "8a5d0840-e16a-404b-80df-cbd6635a3a51"
   },
   "outputs": [
    {
     "data": {
      "text/plain": [
       "Text(0, 0.5, '')"
      ]
     },
     "execution_count": 17,
     "metadata": {},
     "output_type": "execute_result"
    },
    {
     "data": {
      "image/png": "[encoded data removed]",
      "text/plain": [
       "<Figure size 640x480 with 1 Axes>"
      ]
     },
     "metadata": {},
     "output_type": "display_data"
    }
   ],
   "source": [
    "plt.plot(history.history['loss'])\n",
    "plt.plot(history.history['val_loss'])\n",
    "plt.title('Loss evolution')\n",
    "plt.legend(['Loss evolution (train)','Loss evolution (val)'])\n",
    "plt.xlabel('epochs')\n",
    "plt.ylabel('')"
   ]
  },
  {
   "cell_type": "markdown",
   "metadata": {
    "id": "43QNdOyIcaa6"
   },
   "source": [
    "On représente l'évolution de la métrique d'évaluation du modèle pendant l'entrainement."
   ]
  },
  {
   "cell_type": "code",
   "execution_count": null,
   "metadata": {
    "colab": {
     "base_uri": "https://localhost:8080/",
     "height": 490
    },
    "id": "tWpEb0cpXJvp",
    "outputId": "c2f21cc7-a849-433a-dced-b9b074f6520d"
   },
   "outputs": [
    {
     "data": {
      "text/plain": [
       "Text(0, 0.5, 'accuracy')"
      ]
     },
     "execution_count": 18,
     "metadata": {},
     "output_type": "execute_result"
    },
    {
     "data": {
      "image/png": "[encoded data removed]",
      "text/plain": [
       "<Figure size 640x480 with 1 Axes>"
      ]
     },
     "metadata": {},
     "output_type": "display_data"
    }
   ],
   "source": [
    "### Affichage des évolutions de l'accuracy (validation)\n",
    "plt.plot(history.history['accuracy'])\n",
    "plt.plot(history.history['val_accuracy'])\n",
    "plt.title('Validation accuracy')\n",
    "plt.xlabel('epochs')\n",
    "plt.ylabel('accuracy')"
   ]
  },
  {
   "cell_type": "markdown",
   "metadata": {
    "id": "N9FYhPfEchqZ"
   },
   "source": [
    "On récupère le meilleur modèle enregistré."
   ]
  },
  {
   "cell_type": "code",
   "execution_count": null,
   "metadata": {
    "id": "NjbeyY9UXNJU"
   },
   "outputs": [],
   "source": [
    "model = tf.keras.models.load_model(\"best_current_model_LSTM_gsw4.h5\")"
   ]
  },
  {
   "cell_type": "markdown",
   "metadata": {
    "id": "Ezng7iyUcmxw"
   },
   "source": [
    "On applique le modèle au jeu de données test et on évalue ses performances avec la métrique f1 weighted."
   ]
  },
  {
   "cell_type": "code",
   "execution_count": null,
   "metadata": {
    "colab": {
     "base_uri": "https://localhost:8080/"
    },
    "id": "EH2rH6UOXRXx",
    "outputId": "85ef7906-fcdf-4a21-9a63-a1a4f2d0bbf6"
   },
   "outputs": [
    {
     "name": "stdout",
     "output_type": "stream",
     "text": [
      "9/9 [==============================] - 1s 4ms/step\n"
     ]
    },
    {
     "data": {
      "text/plain": [
       "0.7905721618357489"
      ]
     },
     "execution_count": 20,
     "metadata": {},
     "output_type": "execute_result"
    }
   ],
   "source": [
    "prediction = model.predict(X_test_reshaped)\n",
    "classes_predites=np.where(prediction<0.5, 0, 1)\n",
    "f1_score(y_test, classes_predites, average=\"weighted\")\n"
   ]
  },
  {
   "cell_type": "markdown",
   "metadata": {
    "id": "M7wGahXqcxBY"
   },
   "source": [
    "On évalue les performances du modèle sur les données tests à partir des métriques fonction de cout et accuracy avec lesquelles il est entrainé."
   ]
  },
  {
   "cell_type": "code",
   "execution_count": null,
   "metadata": {
    "colab": {
     "base_uri": "https://localhost:8080/"
    },
    "id": "kbQq6dfBXoj4",
    "outputId": "f2ef5292-6ced-4c25-a86c-4d800be960d6"
   },
   "outputs": [
    {
     "name": "stdout",
     "output_type": "stream",
     "text": [
      "9/9 [==============================] - 1s 4ms/step - loss: 0.4040 - accuracy: 0.7847\n"
     ]
    },
    {
     "data": {
      "text/plain": [
       "[0.404016375541687, 0.7847222089767456]"
      ]
     },
     "execution_count": 21,
     "metadata": {},
     "output_type": "execute_result"
    }
   ],
   "source": [
    "model.evaluate(X_test_reshaped, y_test)"
   ]
  },
  {
   "cell_type": "markdown",
   "metadata": {
    "id": "xUA-mAu2dCY8"
   },
   "source": [
    "On représente enfin la matrice dite de confusion qui permet de classer les visualiser les données mal classées, faux positifs et faux négatifs."
   ]
  },
  {
   "cell_type": "code",
   "execution_count": null,
   "metadata": {
    "colab": {
     "base_uri": "https://localhost:8080/",
     "height": 485
    },
    "id": "dlns7_bDVZaY",
    "outputId": "de385603-af0b-44f7-b3e8-d03fcdeb2999"
   },
   "outputs": [
    {
     "name": "stdout",
     "output_type": "stream",
     "text": [
      "[[153  44]\n",
      " [ 18  73]]\n"
     ]
    },
    {
     "data": {
      "image/png": "[encoded data removed]",
      "text/plain": [
       "<Figure size 640x480 with 2 Axes>"
      ]
     },
     "metadata": {},
     "output_type": "display_data"
    }
   ],
   "source": [
    "cm = confusion_matrix(y_test, classes_predites)\n",
    "print(cm)\n",
    "\n",
    "disp = ConfusionMatrixDisplay(confusion_matrix=cm)\n",
    "disp.plot()\n",
    "plt.show()\n"
   ]
  }
 ],
 "metadata": {
  "colab": {
   "provenance": []
  },
  "kernelspec": {
   "display_name": "Python 3 (ipykernel)",
   "language": "python",
   "name": "python3"
  },
  "language_info": {
   "codemirror_mode": {
    "name": "ipython",
    "version": 3
   },
   "file_extension": ".py",
   "mimetype": "text/x-python",
   "name": "python",
   "nbconvert_exporter": "python",
   "pygments_lexer": "ipython3",
   "version": "3.8.8"
  }
 },
 "nbformat": 4,
 "nbformat_minor": 4
}
