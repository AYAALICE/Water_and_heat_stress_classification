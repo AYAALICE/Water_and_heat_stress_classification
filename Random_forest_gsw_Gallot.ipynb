{
 "cells": [
  {
   "cell_type": "markdown",
   "metadata": {
    "id": "7szPVPbDBbVu"
   },
   "source": [
    "# Classification de séries temporelles de conductance stomatique (gsw) selon leur traitement hydrique avec un Random Forest"
   ]
  },
  {
   "cell_type": "markdown",
   "metadata": {
    "id": "wlq3mqVQByIJ"
   },
   "source": [
    "On commence par importer l'ensemble des librairies et des méthodes nécessaires"
   ]
  },
  {
   "cell_type": "code",
   "execution_count": null,
   "metadata": {
    "id": "snqMeXAVAJne"
   },
   "outputs": [],
   "source": [
    "import numpy as np\n",
    "import os\n",
    "import pandas as pd\n",
    "import matplotlib.pyplot as plt\n",
    "from sklearn.preprocessing import StandardScaler\n",
    "from collections import Counter\n",
    "from imblearn.over_sampling import SMOTE\n",
    "from imblearn.under_sampling import RandomUnderSampler\n",
    "from imblearn.pipeline import Pipeline\n",
    "\n",
    "\n",
    "from sklearn.ensemble import RandomForestClassifier\n",
    "from sklearn.metrics import f1_score\n",
    "from sklearn.metrics import accuracy_score, confusion_matrix, precision_score, recall_score, ConfusionMatrixDisplay\n",
    "from sklearn.model_selection import RandomizedSearchCV, train_test_split, RepeatedStratifiedKFold, cross_val_score\n",
    "from scipy.stats import randint\n",
    "\n",
    "from sklearn.tree import export_graphviz\n",
    "from IPython.display import Image\n",
    "import graphviz"
   ]
  },
  {
   "cell_type": "markdown",
   "metadata": {
    "id": "Z4fvD3XmHp9v"
   },
   "source": [
    "### Préparation des données"
   ]
  },
  {
   "cell_type": "markdown",
   "metadata": {
    "id": "ntdAcxHIB5m-"
   },
   "source": [
    "On télécharge le fichier de données"
   ]
  },
  {
   "cell_type": "code",
   "execution_count": null,
   "metadata": {},
   "outputs": [],
   "source": [
    "fichier_csv = \"fake_path\\Data_gsw_4.csv\""
   ]
  },
  {
   "cell_type": "markdown",
   "metadata": {
    "id": "2HwCowzUCDik"
   },
   "source": [
    "On visualise l'ensemble des données"
   ]
  },
  {
   "cell_type": "code",
   "execution_count": null,
   "metadata": {
    "colab": {
     "base_uri": "https://localhost:8080/",
     "height": 206
    },
    "id": "Nyq6fPtqAiFn",
    "outputId": "ecef42c6-3104-48eb-f40d-3cc0f8534263"
   },
   "outputs": [
    {
     "data": {
      "application/vnd.google.colaboratory.intrinsic+json": {
       "summary": "{\n  \"name\": \"data_gsw\",\n  \"rows\": 1440,\n  \"fields\": [\n    {\n      \"column\": \"tree\",\n      \"properties\": {\n        \"dtype\": \"category\",\n        \"num_unique_values\": 144,\n        \"samples\": [\n          \"SE_D_59_2\",\n          \"CE_WW_20_1\",\n          \"SE_D_23_2\"\n        ],\n        \"semantic_type\": \"\",\n        \"description\": \"\"\n      }\n    },\n    {\n      \"column\": \"gsw1\",\n      \"properties\": {\n        \"dtype\": \"number\",\n        \"std\": 0.18267955964988652,\n        \"min\": 0.0001,\n        \"max\": 0.890069963,\n        \"num_unique_values\": 1168,\n        \"samples\": [\n          0.6264,\n          0.0022,\n          0.1784\n        ],\n        \"semantic_type\": \"\",\n        \"description\": \"\"\n      }\n    },\n    {\n      \"column\": \"gsw2\",\n      \"properties\": {\n        \"dtype\": \"number\",\n        \"std\": 0.18190100852435145,\n        \"min\": 0.0001,\n        \"max\": 0.952,\n        \"num_unique_values\": 602,\n        \"samples\": [\n          0.1558,\n          0.1722,\n          0.1273\n        ],\n        \"semantic_type\": \"\",\n        \"description\": \"\"\n      }\n    },\n    {\n      \"column\": \"gsw3\",\n      \"properties\": {\n        \"dtype\": \"number\",\n        \"std\": 0.1583674126932261,\n        \"min\": 0.0001,\n        \"max\": 0.7519,\n        \"num_unique_values\": 520,\n        \"samples\": [\n          0.1112,\n          0.344,\n          0.4948\n        ],\n        \"semantic_type\": \"\",\n        \"description\": \"\"\n      }\n    },\n    {\n      \"column\": \"gsw4\",\n      \"properties\": {\n        \"dtype\": \"number\",\n        \"std\": 0.1674752804679831,\n        \"min\": 0.0001,\n        \"max\": 0.9675,\n        \"num_unique_values\": 261,\n        \"samples\": [\n          0.43,\n          0.0871,\n          0.14\n        ],\n        \"semantic_type\": \"\",\n        \"description\": \"\"\n      }\n    },\n    {\n      \"column\": \"gsw5\",\n      \"properties\": {\n        \"dtype\": \"number\",\n        \"std\": 0.1957010450391324,\n        \"min\": 0.0001,\n        \"max\": 0.9392,\n        \"num_unique_values\": 621,\n        \"samples\": [\n          0.6065,\n          0.4549,\n          0.1279\n        ],\n        \"semantic_type\": \"\",\n        \"description\": \"\"\n      }\n    },\n    {\n      \"column\": \"gsw6\",\n      \"properties\": {\n        \"dtype\": \"number\",\n        \"std\": 0.1736604616950473,\n        \"min\": 0.0001,\n        \"max\": 0.7873,\n        \"num_unique_values\": 516,\n        \"samples\": [\n          0.0406,\n          0.0762,\n          0.1968\n        ],\n        \"semantic_type\": \"\",\n        \"description\": \"\"\n      }\n    },\n    {\n      \"column\": \"gsw7\",\n      \"properties\": {\n        \"dtype\": \"number\",\n        \"std\": 0.15832747193032648,\n        \"min\": 0.0001,\n        \"max\": 0.821831888,\n        \"num_unique_values\": 138,\n        \"samples\": [\n          0.22439622,\n          0.450230885,\n          0.559147248\n        ],\n        \"semantic_type\": \"\",\n        \"description\": \"\"\n      }\n    },\n    {\n      \"column\": \"gsw8\",\n      \"properties\": {\n        \"dtype\": \"number\",\n        \"std\": 0.1778256148158341,\n        \"min\": 0.0001,\n        \"max\": 0.89,\n        \"num_unique_values\": 530,\n        \"samples\": [\n          0.5052,\n          0.0462,\n          0.7005\n        ],\n        \"semantic_type\": \"\",\n        \"description\": \"\"\n      }\n    },\n    {\n      \"column\": \"gsw9\",\n      \"properties\": {\n        \"dtype\": \"number\",\n        \"std\": 0.17593268997905784,\n        \"min\": 0.0001,\n        \"max\": 0.7624,\n        \"num_unique_values\": 272,\n        \"samples\": [\n          0.1634,\n          0.2716,\n          0.1126\n        ],\n        \"semantic_type\": \"\",\n        \"description\": \"\"\n      }\n    },\n    {\n      \"column\": \"gsw10\",\n      \"properties\": {\n        \"dtype\": \"number\",\n        \"std\": 0.22720610834339572,\n        \"min\": 0.0001,\n        \"max\": 0.9215,\n        \"num_unique_values\": 135,\n        \"samples\": [\n          0.5522,\n          0.158,\n          0.137\n        ],\n        \"semantic_type\": \"\",\n        \"description\": \"\"\n      }\n    },\n    {\n      \"column\": \"gsw11\",\n      \"properties\": {\n        \"dtype\": \"number\",\n        \"std\": 0.15063295342573454,\n        \"min\": 0.0001,\n        \"max\": 0.7402,\n        \"num_unique_values\": 137,\n        \"samples\": [\n          0.0313,\n          0.1515,\n          0.7402\n        ],\n        \"semantic_type\": \"\",\n        \"description\": \"\"\n      }\n    },\n    {\n      \"column\": \"gsw12\",\n      \"properties\": {\n        \"dtype\": \"number\",\n        \"std\": 0.18866698741589713,\n        \"min\": 0.0001,\n        \"max\": 0.7993,\n        \"num_unique_values\": 134,\n        \"samples\": [\n          0.335,\n          0.0604,\n          0.3184\n        ],\n        \"semantic_type\": \"\",\n        \"description\": \"\"\n      }\n    },\n    {\n      \"column\": \"treatment\",\n      \"properties\": {\n        \"dtype\": \"category\",\n        \"num_unique_values\": 4,\n        \"samples\": [\n          \"D_25\",\n          \"D_30\",\n          \"WW_25\"\n        ],\n        \"semantic_type\": \"\",\n        \"description\": \"\"\n      }\n    },\n    {\n      \"column\": \"specie\",\n      \"properties\": {\n        \"dtype\": \"category\",\n        \"num_unique_values\": 6,\n        \"samples\": [\n          \"PT\",\n          \"CE\",\n          \"PU\"\n        ],\n        \"semantic_type\": \"\",\n        \"description\": \"\"\n      }\n    },\n    {\n      \"column\": \"water_stress\",\n      \"properties\": {\n        \"dtype\": \"category\",\n        \"num_unique_values\": 2,\n        \"samples\": [\n          \"D\",\n          \"WW\"\n        ],\n        \"semantic_type\": \"\",\n        \"description\": \"\"\n      }\n    },\n    {\n      \"column\": \"heat_stress\",\n      \"properties\": {\n        \"dtype\": \"number\",\n        \"std\": 1,\n        \"min\": 25,\n        \"max\": 30,\n        \"num_unique_values\": 2,\n        \"samples\": [\n          30,\n          25\n        ],\n        \"semantic_type\": \"\",\n        \"description\": \"\"\n      }\n    }\n  ]\n}",
       "type": "dataframe",
       "variable_name": "data_gsw"
      },
      "text/html": [
       "\n",
       "  <div id=\"df-6be8e7f7-c41d-4bd4-b974-2672964ac053\" class=\"colab-df-container\">\n",
       "    <div>\n",
       "<style scoped>\n",
       "    .dataframe tbody tr th:only-of-type {\n",
       "        vertical-align: middle;\n",
       "    }\n",
       "\n",
       "    .dataframe tbody tr th {\n",
       "        vertical-align: top;\n",
       "    }\n",
       "\n",
       "    .dataframe thead th {\n",
       "        text-align: right;\n",
       "    }\n",
       "</style>\n",
       "<table border=\"1\" class=\"dataframe\">\n",
       "  <thead>\n",
       "    <tr style=\"text-align: right;\">\n",
       "      <th></th>\n",
       "      <th>tree</th>\n",
       "      <th>gsw1</th>\n",
       "      <th>gsw2</th>\n",
       "      <th>gsw3</th>\n",
       "      <th>gsw4</th>\n",
       "      <th>gsw5</th>\n",
       "      <th>gsw6</th>\n",
       "      <th>gsw7</th>\n",
       "      <th>gsw8</th>\n",
       "      <th>gsw9</th>\n",
       "      <th>gsw10</th>\n",
       "      <th>gsw11</th>\n",
       "      <th>gsw12</th>\n",
       "      <th>treatment</th>\n",
       "      <th>specie</th>\n",
       "      <th>water_stress</th>\n",
       "      <th>heat_stress</th>\n",
       "    </tr>\n",
       "  </thead>\n",
       "  <tbody>\n",
       "    <tr>\n",
       "      <th>1</th>\n",
       "      <td>PT_WW_1_1</td>\n",
       "      <td>0.3316</td>\n",
       "      <td>NaN</td>\n",
       "      <td>NaN</td>\n",
       "      <td>NaN</td>\n",
       "      <td>0.6592</td>\n",
       "      <td>NaN</td>\n",
       "      <td>NaN</td>\n",
       "      <td>0.5178</td>\n",
       "      <td>NaN</td>\n",
       "      <td>NaN</td>\n",
       "      <td>NaN</td>\n",
       "      <td>0.4540</td>\n",
       "      <td>WW_25</td>\n",
       "      <td>PT</td>\n",
       "      <td>WW</td>\n",
       "      <td>25</td>\n",
       "    </tr>\n",
       "    <tr>\n",
       "      <th>2</th>\n",
       "      <td>CE_D_2_1</td>\n",
       "      <td>0.0409</td>\n",
       "      <td>NaN</td>\n",
       "      <td>NaN</td>\n",
       "      <td>NaN</td>\n",
       "      <td>0.0876</td>\n",
       "      <td>NaN</td>\n",
       "      <td>NaN</td>\n",
       "      <td>0.1379</td>\n",
       "      <td>NaN</td>\n",
       "      <td>NaN</td>\n",
       "      <td>NaN</td>\n",
       "      <td>0.1149</td>\n",
       "      <td>WW_25</td>\n",
       "      <td>CE</td>\n",
       "      <td>WW</td>\n",
       "      <td>25</td>\n",
       "    </tr>\n",
       "    <tr>\n",
       "      <th>3</th>\n",
       "      <td>TA_D_3_1</td>\n",
       "      <td>0.0205</td>\n",
       "      <td>NaN</td>\n",
       "      <td>NaN</td>\n",
       "      <td>NaN</td>\n",
       "      <td>0.0855</td>\n",
       "      <td>NaN</td>\n",
       "      <td>NaN</td>\n",
       "      <td>0.0445</td>\n",
       "      <td>NaN</td>\n",
       "      <td>NaN</td>\n",
       "      <td>NaN</td>\n",
       "      <td>0.1186</td>\n",
       "      <td>WW_25</td>\n",
       "      <td>TA</td>\n",
       "      <td>WW</td>\n",
       "      <td>25</td>\n",
       "    </tr>\n",
       "    <tr>\n",
       "      <th>4</th>\n",
       "      <td>PE_WW_4_1</td>\n",
       "      <td>0.0491</td>\n",
       "      <td>NaN</td>\n",
       "      <td>NaN</td>\n",
       "      <td>NaN</td>\n",
       "      <td>0.0195</td>\n",
       "      <td>NaN</td>\n",
       "      <td>NaN</td>\n",
       "      <td>0.0230</td>\n",
       "      <td>NaN</td>\n",
       "      <td>NaN</td>\n",
       "      <td>NaN</td>\n",
       "      <td>0.0001</td>\n",
       "      <td>WW_25</td>\n",
       "      <td>PE</td>\n",
       "      <td>WW</td>\n",
       "      <td>25</td>\n",
       "    </tr>\n",
       "    <tr>\n",
       "      <th>5</th>\n",
       "      <td>SE_WW_5_1</td>\n",
       "      <td>0.0969</td>\n",
       "      <td>NaN</td>\n",
       "      <td>NaN</td>\n",
       "      <td>NaN</td>\n",
       "      <td>0.1701</td>\n",
       "      <td>NaN</td>\n",
       "      <td>NaN</td>\n",
       "      <td>0.2207</td>\n",
       "      <td>NaN</td>\n",
       "      <td>NaN</td>\n",
       "      <td>NaN</td>\n",
       "      <td>0.1748</td>\n",
       "      <td>WW_25</td>\n",
       "      <td>SE</td>\n",
       "      <td>WW</td>\n",
       "      <td>25</td>\n",
       "    </tr>\n",
       "  </tbody>\n",
       "</table>\n",
       "</div>\n",
       "    <div class=\"colab-df-buttons\">\n",
       "\n",
       "  <div class=\"colab-df-container\">\n",
       "    <button class=\"colab-df-convert\" onclick=\"convertToInteractive('df-6be8e7f7-c41d-4bd4-b974-2672964ac053')\"\n",
       "            title=\"Convert this dataframe to an interactive table.\"\n",
       "            style=\"display:none;\">\n",
       "\n",
       "  <svg xmlns=\"http://www.w3.org/2000/svg\" height=\"24px\" viewBox=\"0 -960 960 960\">\n",
       "    <path d=\"M120-120v-720h720v720H120Zm60-500h600v-160H180v160Zm220 220h160v-160H400v160Zm0 220h160v-160H400v160ZM180-400h160v-160H180v160Zm440 0h160v-160H620v160ZM180-180h160v-160H180v160Zm440 0h160v-160H620v160Z\"/>\n",
       "  </svg>\n",
       "    </button>\n",
       "\n",
       "  <style>\n",
       "    .colab-df-container {\n",
       "      display:flex;\n",
       "      gap: 12px;\n",
       "    }\n",
       "\n",
       "    .colab-df-convert {\n",
       "      background-color: #E8F0FE;\n",
       "      border: none;\n",
       "      border-radius: 50%;\n",
       "      cursor: pointer;\n",
       "      display: none;\n",
       "      fill: #1967D2;\n",
       "      height: 32px;\n",
       "      padding: 0 0 0 0;\n",
       "      width: 32px;\n",
       "    }\n",
       "\n",
       "    .colab-df-convert:hover {\n",
       "      background-color: #E2EBFA;\n",
       "      box-shadow: 0px 1px 2px rgba(60, 64, 67, 0.3), 0px 1px 3px 1px rgba(60, 64, 67, 0.15);\n",
       "      fill: #174EA6;\n",
       "    }\n",
       "\n",
       "    .colab-df-buttons div {\n",
       "      margin-bottom: 4px;\n",
       "    }\n",
       "\n",
       "    [theme=dark] .colab-df-convert {\n",
       "      background-color: #3B4455;\n",
       "      fill: #D2E3FC;\n",
       "    }\n",
       "\n",
       "    [theme=dark] .colab-df-convert:hover {\n",
       "      background-color: #434B5C;\n",
       "      box-shadow: 0px 1px 3px 1px rgba(0, 0, 0, 0.15);\n",
       "      filter: drop-shadow(0px 1px 2px rgba(0, 0, 0, 0.3));\n",
       "      fill: #FFFFFF;\n",
       "    }\n",
       "  </style>\n",
       "\n",
       "    <script>\n",
       "      const buttonEl =\n",
       "        document.querySelector('#df-6be8e7f7-c41d-4bd4-b974-2672964ac053 button.colab-df-convert');\n",
       "      buttonEl.style.display =\n",
       "        google.colab.kernel.accessAllowed ? 'block' : 'none';\n",
       "\n",
       "      async function convertToInteractive(key) {\n",
       "        const element = document.querySelector('#df-6be8e7f7-c41d-4bd4-b974-2672964ac053');\n",
       "        const dataTable =\n",
       "          await google.colab.kernel.invokeFunction('convertToInteractive',\n",
       "                                                    [key], {});\n",
       "        if (!dataTable) return;\n",
       "\n",
       "        const docLinkHtml = 'Like what you see? Visit the ' +\n",
       "          '<a target=\"_blank\" href=https://colab.research.google.com/notebooks/data_table.ipynb>data table notebook</a>'\n",
       "          + ' to learn more about interactive tables.';\n",
       "        element.innerHTML = '';\n",
       "        dataTable['output_type'] = 'display_data';\n",
       "        await google.colab.output.renderOutput(dataTable, element);\n",
       "        const docLink = document.createElement('div');\n",
       "        docLink.innerHTML = docLinkHtml;\n",
       "        element.appendChild(docLink);\n",
       "      }\n",
       "    </script>\n",
       "  </div>\n",
       "\n",
       "\n",
       "<div id=\"df-b32b8808-d43e-403d-813d-cb2d190fdf6a\">\n",
       "  <button class=\"colab-df-quickchart\" onclick=\"quickchart('df-b32b8808-d43e-403d-813d-cb2d190fdf6a')\"\n",
       "            title=\"Suggest charts\"\n",
       "            style=\"display:none;\">\n",
       "\n",
       "<svg xmlns=\"http://www.w3.org/2000/svg\" height=\"24px\"viewBox=\"0 0 24 24\"\n",
       "     width=\"24px\">\n",
       "    <g>\n",
       "        <path d=\"M19 3H5c-1.1 0-2 .9-2 2v14c0 1.1.9 2 2 2h14c1.1 0 2-.9 2-2V5c0-1.1-.9-2-2-2zM9 17H7v-7h2v7zm4 0h-2V7h2v10zm4 0h-2v-4h2v4z\"/>\n",
       "    </g>\n",
       "</svg>\n",
       "  </button>\n",
       "\n",
       "<style>\n",
       "  .colab-df-quickchart {\n",
       "      --bg-color: #E8F0FE;\n",
       "      --fill-color: #1967D2;\n",
       "      --hover-bg-color: #E2EBFA;\n",
       "      --hover-fill-color: #174EA6;\n",
       "      --disabled-fill-color: #AAA;\n",
       "      --disabled-bg-color: #DDD;\n",
       "  }\n",
       "\n",
       "  [theme=dark] .colab-df-quickchart {\n",
       "      --bg-color: #3B4455;\n",
       "      --fill-color: #D2E3FC;\n",
       "      --hover-bg-color: #434B5C;\n",
       "      --hover-fill-color: #FFFFFF;\n",
       "      --disabled-bg-color: #3B4455;\n",
       "      --disabled-fill-color: #666;\n",
       "  }\n",
       "\n",
       "  .colab-df-quickchart {\n",
       "    background-color: var(--bg-color);\n",
       "    border: none;\n",
       "    border-radius: 50%;\n",
       "    cursor: pointer;\n",
       "    display: none;\n",
       "    fill: var(--fill-color);\n",
       "    height: 32px;\n",
       "    padding: 0;\n",
       "    width: 32px;\n",
       "  }\n",
       "\n",
       "  .colab-df-quickchart:hover {\n",
       "    background-color: var(--hover-bg-color);\n",
       "    box-shadow: 0 1px 2px rgba(60, 64, 67, 0.3), 0 1px 3px 1px rgba(60, 64, 67, 0.15);\n",
       "    fill: var(--button-hover-fill-color);\n",
       "  }\n",
       "\n",
       "  .colab-df-quickchart-complete:disabled,\n",
       "  .colab-df-quickchart-complete:disabled:hover {\n",
       "    background-color: var(--disabled-bg-color);\n",
       "    fill: var(--disabled-fill-color);\n",
       "    box-shadow: none;\n",
       "  }\n",
       "\n",
       "  .colab-df-spinner {\n",
       "    border: 2px solid var(--fill-color);\n",
       "    border-color: transparent;\n",
       "    border-bottom-color: var(--fill-color);\n",
       "    animation:\n",
       "      spin 1s steps(1) infinite;\n",
       "  }\n",
       "\n",
       "  @keyframes spin {\n",
       "    0% {\n",
       "      border-color: transparent;\n",
       "      border-bottom-color: var(--fill-color);\n",
       "      border-left-color: var(--fill-color);\n",
       "    }\n",
       "    20% {\n",
       "      border-color: transparent;\n",
       "      border-left-color: var(--fill-color);\n",
       "      border-top-color: var(--fill-color);\n",
       "    }\n",
       "    30% {\n",
       "      border-color: transparent;\n",
       "      border-left-color: var(--fill-color);\n",
       "      border-top-color: var(--fill-color);\n",
       "      border-right-color: var(--fill-color);\n",
       "    }\n",
       "    40% {\n",
       "      border-color: transparent;\n",
       "      border-right-color: var(--fill-color);\n",
       "      border-top-color: var(--fill-color);\n",
       "    }\n",
       "    60% {\n",
       "      border-color: transparent;\n",
       "      border-right-color: var(--fill-color);\n",
       "    }\n",
       "    80% {\n",
       "      border-color: transparent;\n",
       "      border-right-color: var(--fill-color);\n",
       "      border-bottom-color: var(--fill-color);\n",
       "    }\n",
       "    90% {\n",
       "      border-color: transparent;\n",
       "      border-bottom-color: var(--fill-color);\n",
       "    }\n",
       "  }\n",
       "</style>\n",
       "\n",
       "  <script>\n",
       "    async function quickchart(key) {\n",
       "      const quickchartButtonEl =\n",
       "        document.querySelector('#' + key + ' button');\n",
       "      quickchartButtonEl.disabled = true;  // To prevent multiple clicks.\n",
       "      quickchartButtonEl.classList.add('colab-df-spinner');\n",
       "      try {\n",
       "        const charts = await google.colab.kernel.invokeFunction(\n",
       "            'suggestCharts', [key], {});\n",
       "      } catch (error) {\n",
       "        console.error('Error during call to suggestCharts:', error);\n",
       "      }\n",
       "      quickchartButtonEl.classList.remove('colab-df-spinner');\n",
       "      quickchartButtonEl.classList.add('colab-df-quickchart-complete');\n",
       "    }\n",
       "    (() => {\n",
       "      let quickchartButtonEl =\n",
       "        document.querySelector('#df-b32b8808-d43e-403d-813d-cb2d190fdf6a button');\n",
       "      quickchartButtonEl.style.display =\n",
       "        google.colab.kernel.accessAllowed ? 'block' : 'none';\n",
       "    })();\n",
       "  </script>\n",
       "</div>\n",
       "\n",
       "    </div>\n",
       "  </div>\n"
      ],
      "text/plain": [
       "        tree    gsw1  gsw2  gsw3  gsw4    gsw5  gsw6  gsw7    gsw8  gsw9  \\\n",
       "1  PT_WW_1_1  0.3316   NaN   NaN   NaN  0.6592   NaN   NaN  0.5178   NaN   \n",
       "2   CE_D_2_1  0.0409   NaN   NaN   NaN  0.0876   NaN   NaN  0.1379   NaN   \n",
       "3   TA_D_3_1  0.0205   NaN   NaN   NaN  0.0855   NaN   NaN  0.0445   NaN   \n",
       "4  PE_WW_4_1  0.0491   NaN   NaN   NaN  0.0195   NaN   NaN  0.0230   NaN   \n",
       "5  SE_WW_5_1  0.0969   NaN   NaN   NaN  0.1701   NaN   NaN  0.2207   NaN   \n",
       "\n",
       "   gsw10  gsw11   gsw12 treatment specie water_stress  heat_stress  \n",
       "1    NaN    NaN  0.4540     WW_25     PT           WW           25  \n",
       "2    NaN    NaN  0.1149     WW_25     CE           WW           25  \n",
       "3    NaN    NaN  0.1186     WW_25     TA           WW           25  \n",
       "4    NaN    NaN  0.0001     WW_25     PE           WW           25  \n",
       "5    NaN    NaN  0.1748     WW_25     SE           WW           25  "
      ]
     },
     "execution_count": 4,
     "metadata": {},
     "output_type": "execute_result"
    }
   ],
   "source": [
    "data_gsw = pd.read_csv(fichier_csv, index_col='Unnamed: 0')\n",
    "data_gsw.head()"
   ]
  },
  {
   "cell_type": "markdown",
   "metadata": {
    "id": "MKoIkm18CN2v"
   },
   "source": [
    "On transforme la colonne correspondant au traitement hydrique : WW ou D, en deux colonnes binaires D (qui prend les instances 0 ou 1) et WW (qui prend les instances 0 ou 1)."
   ]
  },
  {
   "cell_type": "code",
   "execution_count": null,
   "metadata": {
    "id": "QiH-Xjp-Ac2T"
   },
   "outputs": [],
   "source": [
    "data_gsw[\"dummy\"] = 1\n",
    "data_gsw_wide = data_gsw.pivot(index=data_gsw.iloc[:, np.r_[0:13]],\n",
    "                                                             columns=[\"water_stress\"], values= \"dummy\").reset_index()\n",
    "data_gsw_wide = data_gsw_wide.fillna(0)"
   ]
  },
  {
   "cell_type": "markdown",
   "metadata": {
    "id": "mbsPQZ8mC13H"
   },
   "source": [
    "On sélectionne les colonnes en entrée : on garde seulement l'information des séries temporelles. On définit ensuite la colonne binaire D comme la sortie de l'algorithme.  "
   ]
  },
  {
   "cell_type": "code",
   "execution_count": null,
   "metadata": {
    "id": "A73_bl4eAse4"
   },
   "outputs": [],
   "source": [
    "X = data_gsw_wide.iloc[:, np.r_[1:13]]\n",
    "\n",
    "y = data_gsw_wide.iloc[:, np.r_[13]]\n",
    "y = y.values.ravel()"
   ]
  },
  {
   "cell_type": "markdown",
   "metadata": {
    "id": "j7DzBYoCDGE3"
   },
   "source": [
    "On sous échantillonne le jeu de doonées en deux : les valeurs sur lesquelles le modèle s'entraine (80%) et les valeurs à partir duquel le modèle est évalué (20%).\n"
   ]
  },
  {
   "cell_type": "code",
   "execution_count": null,
   "metadata": {
    "id": "6JjIJEGlBAlu"
   },
   "outputs": [],
   "source": [
    "X_train, X_test, y_train, y_test = train_test_split(X, y, test_size=0.2)"
   ]
  },
  {
   "cell_type": "markdown",
   "metadata": {
    "id": "GYISX9STHw8j"
   },
   "source": [
    "### Random forest - programme principal"
   ]
  },
  {
   "cell_type": "markdown",
   "metadata": {
    "id": "uZem2qIEDwaJ"
   },
   "source": [
    "On définit les différents composantes de notre modèle : il s'agit d'un Random Forest (composé de 350 arbres de profondeur maximale 14). On utilise la méthode SMOTE pour enrichir le jeu de données déséquilibré. On sous-échantillonne ensuite les données majoritaires."
   ]
  },
  {
   "cell_type": "code",
   "execution_count": null,
   "metadata": {
    "id": "859sANn-BL9v"
   },
   "outputs": [],
   "source": [
    "rf =  RandomForestClassifier(max_depth=14, n_estimators=350)\n",
    "over = SMOTE()\n",
    "under = RandomUnderSampler()\n",
    "steps = [('over', over), ('under', under), ('rf', RandomForestClassifier(max_depth=14, n_estimators=350))]\n",
    "pipeline = Pipeline(steps=steps)"
   ]
  },
  {
   "cell_type": "markdown",
   "metadata": {
    "id": "YVGZ-qaDEWM2"
   },
   "source": [
    "On se place dans un cas de cross validation d'ordre 5 pour appuyer avec robustesse le résultat de notre modèle. On choisit une métrique d'évaluation du modèle adapté à nos données."
   ]
  },
  {
   "cell_type": "code",
   "execution_count": null,
   "metadata": {
    "colab": {
     "base_uri": "https://localhost:8080/"
    },
    "id": "mLgfYKUZBQZC",
    "outputId": "0590bc8b-6408-40d8-d390-65eb3ae66dde"
   },
   "outputs": [
    {
     "name": "stdout",
     "output_type": "stream",
     "text": [
      "Mean f1 macro: 0.817\n"
     ]
    }
   ],
   "source": [
    "cv = RepeatedStratifiedKFold(n_splits=5, n_repeats=5, random_state=1)\n",
    "scores = cross_val_score(pipeline, X, y, scoring='f1_weighted', cv=cv, n_jobs=-1)\n",
    "print('Mean f1 weighted: %.3f' % np.mean(scores))"
   ]
  },
  {
   "cell_type": "markdown",
   "metadata": {
    "id": "tZMwmuvCHa6D"
   },
   "source": [
    "### Random Forest - programme annexe"
   ]
  },
  {
   "cell_type": "markdown",
   "metadata": {
    "id": "tkX0ckJQEy6q"
   },
   "source": [
    "On ne se place plus dans un cas de cross validation, on est alors plus sensible à l'échantillonnage des données à tester par rapport aux données d'entrainement. On segmente davantage les taches de l'algorithme pour une meilleure lecture. On cherche les hyperparamètres (profondeur maximale et nombre d'arbres) les plus adaptés à la classification de nos données.\n"
   ]
  },
  {
   "cell_type": "markdown",
   "metadata": {
    "id": "JxWkL7QsJmuJ"
   },
   "source": [
    "On calcule le déséquilibre des classes."
   ]
  },
  {
   "cell_type": "code",
   "execution_count": null,
   "metadata": {
    "colab": {
     "base_uri": "https://localhost:8080/"
    },
    "id": "a3vrNbe5HZN6",
    "outputId": "ee76180e-fd90-4d3b-974d-bd031da9db86"
   },
   "outputs": [
    {
     "data": {
      "text/plain": [
       "Counter({0.0: 818, 1.0: 334})"
      ]
     },
     "execution_count": 8,
     "metadata": {},
     "output_type": "execute_result"
    }
   ],
   "source": [
    "counter = Counter(y_train)\n",
    "counter"
   ]
  },
  {
   "cell_type": "markdown",
   "metadata": {
    "id": "2rvKhAkcJsA1"
   },
   "source": [
    "On résout le déséquilibre en enrichissant la classe minoritaire du jeu de données par la méthode SMOTE. On sous échantillone la classe majoritaire."
   ]
  },
  {
   "cell_type": "code",
   "execution_count": null,
   "metadata": {
    "id": "UXur6yBBIe_C"
   },
   "outputs": [],
   "source": [
    "over = SMOTE()\n",
    "under = RandomUnderSampler()\n",
    "steps = [('over', over), ('under', under)]\n",
    "pipeline = Pipeline(steps=steps)\n",
    "\n",
    "X_resampled, y_resampled = pipeline.fit_resample(X_train, y_train)"
   ]
  },
  {
   "cell_type": "markdown",
   "metadata": {
    "id": "Ennvj5DEKFvy"
   },
   "source": [
    "On calcule le nouveau déséquilibre des classes de la sortie."
   ]
  },
  {
   "cell_type": "code",
   "execution_count": null,
   "metadata": {
    "colab": {
     "base_uri": "https://localhost:8080/"
    },
    "id": "LowLaQ2nIqog",
    "outputId": "184a8ebc-7c88-4065-bae3-9bc1057c13f1"
   },
   "outputs": [
    {
     "data": {
      "text/plain": [
       "Counter({0.0: 818, 1.0: 818})"
      ]
     },
     "execution_count": 10,
     "metadata": {},
     "output_type": "execute_result"
    }
   ],
   "source": [
    "counter = Counter(y_resampled)\n",
    "counter"
   ]
  },
  {
   "cell_type": "markdown",
   "metadata": {
    "id": "O_ZPhkSQKNy4"
   },
   "source": [
    "On cherche les meilleurs hyperparamètres pour le random forest classfier adapté à nos données."
   ]
  },
  {
   "cell_type": "code",
   "execution_count": null,
   "metadata": {
    "colab": {
     "base_uri": "https://localhost:8080/",
     "height": 117
    },
    "id": "akwkSp-6Iz7u",
    "outputId": "6e408eec-0fac-424b-a0fa-020704a90aa3"
   },
   "outputs": [
    {
     "data": {
      "text/html": [
       "<style>#sk-container-id-1 {color: black;}#sk-container-id-1 pre{padding: 0;}#sk-container-id-1 div.sk-toggleable {background-color: white;}#sk-container-id-1 label.sk-toggleable__label {cursor: pointer;display: block;width: 100%;margin-bottom: 0;padding: 0.3em;box-sizing: border-box;text-align: center;}#sk-container-id-1 label.sk-toggleable__label-arrow:before {content: \"▸\";float: left;margin-right: 0.25em;color: #696969;}#sk-container-id-1 label.sk-toggleable__label-arrow:hover:before {color: black;}#sk-container-id-1 div.sk-estimator:hover label.sk-toggleable__label-arrow:before {color: black;}#sk-container-id-1 div.sk-toggleable__content {max-height: 0;max-width: 0;overflow: hidden;text-align: left;background-color: #f0f8ff;}#sk-container-id-1 div.sk-toggleable__content pre {margin: 0.2em;color: black;border-radius: 0.25em;background-color: #f0f8ff;}#sk-container-id-1 input.sk-toggleable__control:checked~div.sk-toggleable__content {max-height: 200px;max-width: 100%;overflow: auto;}#sk-container-id-1 input.sk-toggleable__control:checked~label.sk-toggleable__label-arrow:before {content: \"▾\";}#sk-container-id-1 div.sk-estimator input.sk-toggleable__control:checked~label.sk-toggleable__label {background-color: #d4ebff;}#sk-container-id-1 div.sk-label input.sk-toggleable__control:checked~label.sk-toggleable__label {background-color: #d4ebff;}#sk-container-id-1 input.sk-hidden--visually {border: 0;clip: rect(1px 1px 1px 1px);clip: rect(1px, 1px, 1px, 1px);height: 1px;margin: -1px;overflow: hidden;padding: 0;position: absolute;width: 1px;}#sk-container-id-1 div.sk-estimator {font-family: monospace;background-color: #f0f8ff;border: 1px dotted black;border-radius: 0.25em;box-sizing: border-box;margin-bottom: 0.5em;}#sk-container-id-1 div.sk-estimator:hover {background-color: #d4ebff;}#sk-container-id-1 div.sk-parallel-item::after {content: \"\";width: 100%;border-bottom: 1px solid gray;flex-grow: 1;}#sk-container-id-1 div.sk-label:hover label.sk-toggleable__label {background-color: #d4ebff;}#sk-container-id-1 div.sk-serial::before {content: \"\";position: absolute;border-left: 1px solid gray;box-sizing: border-box;top: 0;bottom: 0;left: 50%;z-index: 0;}#sk-container-id-1 div.sk-serial {display: flex;flex-direction: column;align-items: center;background-color: white;padding-right: 0.2em;padding-left: 0.2em;position: relative;}#sk-container-id-1 div.sk-item {position: relative;z-index: 1;}#sk-container-id-1 div.sk-parallel {display: flex;align-items: stretch;justify-content: center;background-color: white;position: relative;}#sk-container-id-1 div.sk-item::before, #sk-container-id-1 div.sk-parallel-item::before {content: \"\";position: absolute;border-left: 1px solid gray;box-sizing: border-box;top: 0;bottom: 0;left: 50%;z-index: -1;}#sk-container-id-1 div.sk-parallel-item {display: flex;flex-direction: column;z-index: 1;position: relative;background-color: white;}#sk-container-id-1 div.sk-parallel-item:first-child::after {align-self: flex-end;width: 50%;}#sk-container-id-1 div.sk-parallel-item:last-child::after {align-self: flex-start;width: 50%;}#sk-container-id-1 div.sk-parallel-item:only-child::after {width: 0;}#sk-container-id-1 div.sk-dashed-wrapped {border: 1px dashed gray;margin: 0 0.4em 0.5em 0.4em;box-sizing: border-box;padding-bottom: 0.4em;background-color: white;}#sk-container-id-1 div.sk-label label {font-family: monospace;font-weight: bold;display: inline-block;line-height: 1.2em;}#sk-container-id-1 div.sk-label-container {text-align: center;}#sk-container-id-1 div.sk-container {/* jupyter's `normalize.less` sets `[hidden] { display: none; }` but bootstrap.min.css set `[hidden] { display: none !important; }` so we also need the `!important` here to be able to override the default hidden behavior on the sphinx rendered scikit-learn.org. See: https://github.com/scikit-learn/scikit-learn/issues/21755 */display: inline-block !important;position: relative;}#sk-container-id-1 div.sk-text-repr-fallback {display: none;}</style><div id=\"sk-container-id-1\" class=\"sk-top-container\"><div class=\"sk-text-repr-fallback\"><pre>RandomizedSearchCV(cv=5, estimator=RandomForestClassifier(), n_iter=5,\n",
       "                   param_distributions={&#x27;max_depth&#x27;: &lt;scipy.stats._distn_infrastructure.rv_discrete_frozen object at 0x7baf699c9de0&gt;,\n",
       "                                        &#x27;n_estimators&#x27;: &lt;scipy.stats._distn_infrastructure.rv_discrete_frozen object at 0x7baf699c9a20&gt;})</pre><b>In a Jupyter environment, please rerun this cell to show the HTML representation or trust the notebook. <br />On GitHub, the HTML representation is unable to render, please try loading this page with nbviewer.org.</b></div><div class=\"sk-container\" hidden><div class=\"sk-item sk-dashed-wrapped\"><div class=\"sk-label-container\"><div class=\"sk-label sk-toggleable\"><input class=\"sk-toggleable__control sk-hidden--visually\" id=\"sk-estimator-id-1\" type=\"checkbox\" ><label for=\"sk-estimator-id-1\" class=\"sk-toggleable__label sk-toggleable__label-arrow\">RandomizedSearchCV</label><div class=\"sk-toggleable__content\"><pre>RandomizedSearchCV(cv=5, estimator=RandomForestClassifier(), n_iter=5,\n",
       "                   param_distributions={&#x27;max_depth&#x27;: &lt;scipy.stats._distn_infrastructure.rv_discrete_frozen object at 0x7baf699c9de0&gt;,\n",
       "                                        &#x27;n_estimators&#x27;: &lt;scipy.stats._distn_infrastructure.rv_discrete_frozen object at 0x7baf699c9a20&gt;})</pre></div></div></div><div class=\"sk-parallel\"><div class=\"sk-parallel-item\"><div class=\"sk-item\"><div class=\"sk-label-container\"><div class=\"sk-label sk-toggleable\"><input class=\"sk-toggleable__control sk-hidden--visually\" id=\"sk-estimator-id-2\" type=\"checkbox\" ><label for=\"sk-estimator-id-2\" class=\"sk-toggleable__label sk-toggleable__label-arrow\">estimator: RandomForestClassifier</label><div class=\"sk-toggleable__content\"><pre>RandomForestClassifier()</pre></div></div></div><div class=\"sk-serial\"><div class=\"sk-item\"><div class=\"sk-estimator sk-toggleable\"><input class=\"sk-toggleable__control sk-hidden--visually\" id=\"sk-estimator-id-3\" type=\"checkbox\" ><label for=\"sk-estimator-id-3\" class=\"sk-toggleable__label sk-toggleable__label-arrow\">RandomForestClassifier</label><div class=\"sk-toggleable__content\"><pre>RandomForestClassifier()</pre></div></div></div></div></div></div></div></div></div></div>"
      ],
      "text/plain": [
       "RandomizedSearchCV(cv=5, estimator=RandomForestClassifier(), n_iter=5,\n",
       "                   param_distributions={'max_depth': <scipy.stats._distn_infrastructure.rv_discrete_frozen object at 0x7baf699c9de0>,\n",
       "                                        'n_estimators': <scipy.stats._distn_infrastructure.rv_discrete_frozen object at 0x7baf699c9a20>})"
      ]
     },
     "execution_count": 11,
     "metadata": {},
     "output_type": "execute_result"
    }
   ],
   "source": [
    "param_dist = {'n_estimators': randint(50,500),\n",
    "              'max_depth': randint(1,20)}\n",
    "\n",
    "rf = RandomForestClassifier()\n",
    "rand_search = RandomizedSearchCV(rf, param_distributions = param_dist, n_iter=5, cv=5)\n",
    "\n",
    "rand_search.fit(X_train, y_train)"
   ]
  },
  {
   "cell_type": "code",
   "execution_count": null,
   "metadata": {
    "colab": {
     "base_uri": "https://localhost:8080/"
    },
    "id": "Mn4COMy4JAr1",
    "outputId": "bdf9b4c6-9c75-4f55-ee7b-fd7804b40c47"
   },
   "outputs": [
    {
     "name": "stdout",
     "output_type": "stream",
     "text": [
      "Best hyperparameters: {'max_depth': 6, 'n_estimators': 411}\n"
     ]
    }
   ],
   "source": [
    "best_rf = rand_search.best_estimator_\n",
    "print('Best hyperparameters:',  rand_search.best_params_)"
   ]
  },
  {
   "cell_type": "code",
   "execution_count": null,
   "metadata": {
    "colab": {
     "base_uri": "https://localhost:8080/",
     "height": 1000
    },
    "id": "T_oE8dSjfvVJ",
    "outputId": "f9522e13-5f58-434b-b091-d7b6addb4e94"
   },
   "outputs": [
    {
     "data": {
      "image/svg+xml": [
       "<?xml version=\"1.0\" encoding=\"UTF-8\" standalone=\"no\"?>\n",
       "<!DOCTYPE svg PUBLIC \"-//W3C//DTD SVG 1.1//EN\"\n",
       " \"http://www.w3.org/Graphics/SVG/1.1/DTD/svg11.dtd\">\n",
       "<!-- Generated by graphviz version 2.43.0 (0)\n",
       " -->\n",
       "<!-- Title: Tree Pages: 1 -->\n",
       "<svg width=\"634pt\" height=\"311pt\"\n",
       " viewBox=\"0.00 0.00 634.00 311.00\" xmlns=\"http://www.w3.org/2000/svg\" xmlns:xlink=\"http://www.w3.org/1999/xlink\">\n",
       "<g id=\"graph0\" class=\"graph\" transform=\"scale(1 1) rotate(0) translate(4 307)\">\n",
       "<title>Tree</title>\n",
       "<polygon fill=\"white\" stroke=\"transparent\" points=\"-4,4 -4,-307 630,-307 630,4 -4,4\"/>\n",
       "<!-- 0 -->\n",
       "<g id=\"node1\" class=\"node\">\n",
       "<title>0</title>\n",
       "<polygon fill=\"#efb084\" stroke=\"black\" points=\"379.5,-303 232.5,-303 232.5,-250 379.5,-250 379.5,-303\"/>\n",
       "<text text-anchor=\"middle\" x=\"306\" y=\"-287.8\" font-family=\"Helvetica,sans-Serif\" font-size=\"14.00\">gsw4 &lt;= 0.0</text>\n",
       "<text text-anchor=\"middle\" x=\"306\" y=\"-272.8\" font-family=\"Helvetica,sans-Serif\" font-size=\"14.00\">samples = 100.0%</text>\n",
       "<text text-anchor=\"middle\" x=\"306\" y=\"-257.8\" font-family=\"Helvetica,sans-Serif\" font-size=\"14.00\">value = [0.727, 0.273]</text>\n",
       "</g>\n",
       "<!-- 1 -->\n",
       "<g id=\"node2\" class=\"node\">\n",
       "<title>1</title>\n",
       "<polygon fill=\"#eca46f\" stroke=\"black\" points=\"297.5,-214 150.5,-214 150.5,-161 297.5,-161 297.5,-214\"/>\n",
       "<text text-anchor=\"middle\" x=\"224\" y=\"-198.8\" font-family=\"Helvetica,sans-Serif\" font-size=\"14.00\">gsw5 &lt;= 0.064</text>\n",
       "<text text-anchor=\"middle\" x=\"224\" y=\"-183.8\" font-family=\"Helvetica,sans-Serif\" font-size=\"14.00\">samples = 79.7%</text>\n",
       "<text text-anchor=\"middle\" x=\"224\" y=\"-168.8\" font-family=\"Helvetica,sans-Serif\" font-size=\"14.00\">value = [0.784, 0.216]</text>\n",
       "</g>\n",
       "<!-- 0&#45;&gt;1 -->\n",
       "<g id=\"edge1\" class=\"edge\">\n",
       "<title>0&#45;&gt;1</title>\n",
       "<path fill=\"none\" stroke=\"black\" d=\"M281.84,-249.87C273.49,-241.01 264.01,-230.95 255.18,-221.58\"/>\n",
       "<polygon fill=\"black\" stroke=\"black\" points=\"257.68,-219.13 248.27,-214.25 252.58,-223.93 257.68,-219.13\"/>\n",
       "<text text-anchor=\"middle\" x=\"247.53\" y=\"-235.54\" font-family=\"Helvetica,sans-Serif\" font-size=\"14.00\">True</text>\n",
       "</g>\n",
       "<!-- 44 -->\n",
       "<g id=\"node9\" class=\"node\">\n",
       "<title>44</title>\n",
       "<polygon fill=\"#fafcfe\" stroke=\"black\" points=\"462.5,-214 315.5,-214 315.5,-161 462.5,-161 462.5,-214\"/>\n",
       "<text text-anchor=\"middle\" x=\"389\" y=\"-198.8\" font-family=\"Helvetica,sans-Serif\" font-size=\"14.00\">gsw8 &lt;= 0.152</text>\n",
       "<text text-anchor=\"middle\" x=\"389\" y=\"-183.8\" font-family=\"Helvetica,sans-Serif\" font-size=\"14.00\">samples = 20.3%</text>\n",
       "<text text-anchor=\"middle\" x=\"389\" y=\"-168.8\" font-family=\"Helvetica,sans-Serif\" font-size=\"14.00\">value = [0.493, 0.507]</text>\n",
       "</g>\n",
       "<!-- 0&#45;&gt;44 -->\n",
       "<g id=\"edge8\" class=\"edge\">\n",
       "<title>0&#45;&gt;44</title>\n",
       "<path fill=\"none\" stroke=\"black\" d=\"M330.45,-249.87C338.91,-241.01 348.5,-230.95 357.44,-221.58\"/>\n",
       "<polygon fill=\"black\" stroke=\"black\" points=\"360.06,-223.9 364.43,-214.25 355,-219.07 360.06,-223.9\"/>\n",
       "<text text-anchor=\"middle\" x=\"365.02\" y=\"-235.54\" font-family=\"Helvetica,sans-Serif\" font-size=\"14.00\">False</text>\n",
       "</g>\n",
       "<!-- 2 -->\n",
       "<g id=\"node3\" class=\"node\">\n",
       "<title>2</title>\n",
       "<polygon fill=\"#f1bc96\" stroke=\"black\" points=\"132,-125 0,-125 0,-72 132,-72 132,-125\"/>\n",
       "<text text-anchor=\"middle\" x=\"66\" y=\"-109.8\" font-family=\"Helvetica,sans-Serif\" font-size=\"14.00\">gsw10 &lt;= 0.003</text>\n",
       "<text text-anchor=\"middle\" x=\"66\" y=\"-94.8\" font-family=\"Helvetica,sans-Serif\" font-size=\"14.00\">samples = 43.6%</text>\n",
       "<text text-anchor=\"middle\" x=\"66\" y=\"-79.8\" font-family=\"Helvetica,sans-Serif\" font-size=\"14.00\">value = [0.68, 0.32]</text>\n",
       "</g>\n",
       "<!-- 1&#45;&gt;2 -->\n",
       "<g id=\"edge2\" class=\"edge\">\n",
       "<title>1&#45;&gt;2</title>\n",
       "<path fill=\"none\" stroke=\"black\" d=\"M177.45,-160.87C159.85,-151.18 139.65,-140.05 121.32,-129.96\"/>\n",
       "<polygon fill=\"black\" stroke=\"black\" points=\"122.94,-126.86 112.49,-125.1 119.56,-132.99 122.94,-126.86\"/>\n",
       "</g>\n",
       "<!-- 27 -->\n",
       "<g id=\"node6\" class=\"node\">\n",
       "<title>27</title>\n",
       "<polygon fill=\"#e88e4e\" stroke=\"black\" points=\"297.5,-125 150.5,-125 150.5,-72 297.5,-72 297.5,-125\"/>\n",
       "<text text-anchor=\"middle\" x=\"224\" y=\"-109.8\" font-family=\"Helvetica,sans-Serif\" font-size=\"14.00\">gsw8 &lt;= 0.483</text>\n",
       "<text text-anchor=\"middle\" x=\"224\" y=\"-94.8\" font-family=\"Helvetica,sans-Serif\" font-size=\"14.00\">samples = 36.1%</text>\n",
       "<text text-anchor=\"middle\" x=\"224\" y=\"-79.8\" font-family=\"Helvetica,sans-Serif\" font-size=\"14.00\">value = [0.905, 0.095]</text>\n",
       "</g>\n",
       "<!-- 1&#45;&gt;27 -->\n",
       "<g id=\"edge5\" class=\"edge\">\n",
       "<title>1&#45;&gt;27</title>\n",
       "<path fill=\"none\" stroke=\"black\" d=\"M224,-160.87C224,-152.89 224,-143.93 224,-135.38\"/>\n",
       "<polygon fill=\"black\" stroke=\"black\" points=\"227.5,-135.25 224,-125.25 220.5,-135.25 227.5,-135.25\"/>\n",
       "</g>\n",
       "<!-- 3 -->\n",
       "<g id=\"node4\" class=\"node\">\n",
       "<title>3</title>\n",
       "<polygon fill=\"#c0c0c0\" stroke=\"black\" points=\"78,-36 24,-36 24,0 78,0 78,-36\"/>\n",
       "<text text-anchor=\"middle\" x=\"51\" y=\"-14.3\" font-family=\"Helvetica,sans-Serif\" font-size=\"14.00\">(...)</text>\n",
       "</g>\n",
       "<!-- 2&#45;&gt;3 -->\n",
       "<g id=\"edge3\" class=\"edge\">\n",
       "<title>2&#45;&gt;3</title>\n",
       "<path fill=\"none\" stroke=\"black\" d=\"M61.09,-71.8C59.53,-63.62 57.79,-54.55 56.21,-46.27\"/>\n",
       "<polygon fill=\"black\" stroke=\"black\" points=\"59.63,-45.5 54.31,-36.33 52.75,-46.81 59.63,-45.5\"/>\n",
       "</g>\n",
       "<!-- 16 -->\n",
       "<g id=\"node5\" class=\"node\">\n",
       "<title>16</title>\n",
       "<polygon fill=\"#c0c0c0\" stroke=\"black\" points=\"150,-36 96,-36 96,0 150,0 150,-36\"/>\n",
       "<text text-anchor=\"middle\" x=\"123\" y=\"-14.3\" font-family=\"Helvetica,sans-Serif\" font-size=\"14.00\">(...)</text>\n",
       "</g>\n",
       "<!-- 2&#45;&gt;16 -->\n",
       "<g id=\"edge4\" class=\"edge\">\n",
       "<title>2&#45;&gt;16</title>\n",
       "<path fill=\"none\" stroke=\"black\" d=\"M84.66,-71.8C91,-63.08 98.06,-53.34 104.39,-44.63\"/>\n",
       "<polygon fill=\"black\" stroke=\"black\" points=\"107.37,-46.48 110.42,-36.33 101.71,-42.37 107.37,-46.48\"/>\n",
       "</g>\n",
       "<!-- 28 -->\n",
       "<g id=\"node7\" class=\"node\">\n",
       "<title>28</title>\n",
       "<polygon fill=\"#c0c0c0\" stroke=\"black\" points=\"236,-36 182,-36 182,0 236,0 236,-36\"/>\n",
       "<text text-anchor=\"middle\" x=\"209\" y=\"-14.3\" font-family=\"Helvetica,sans-Serif\" font-size=\"14.00\">(...)</text>\n",
       "</g>\n",
       "<!-- 27&#45;&gt;28 -->\n",
       "<g id=\"edge6\" class=\"edge\">\n",
       "<title>27&#45;&gt;28</title>\n",
       "<path fill=\"none\" stroke=\"black\" d=\"M219.09,-71.8C217.53,-63.62 215.79,-54.55 214.21,-46.27\"/>\n",
       "<polygon fill=\"black\" stroke=\"black\" points=\"217.63,-45.5 212.31,-36.33 210.75,-46.81 217.63,-45.5\"/>\n",
       "</g>\n",
       "<!-- 37 -->\n",
       "<g id=\"node8\" class=\"node\">\n",
       "<title>37</title>\n",
       "<polygon fill=\"#c0c0c0\" stroke=\"black\" points=\"308,-36 254,-36 254,0 308,0 308,-36\"/>\n",
       "<text text-anchor=\"middle\" x=\"281\" y=\"-14.3\" font-family=\"Helvetica,sans-Serif\" font-size=\"14.00\">(...)</text>\n",
       "</g>\n",
       "<!-- 27&#45;&gt;37 -->\n",
       "<g id=\"edge7\" class=\"edge\">\n",
       "<title>27&#45;&gt;37</title>\n",
       "<path fill=\"none\" stroke=\"black\" d=\"M242.66,-71.8C249,-63.08 256.06,-53.34 262.39,-44.63\"/>\n",
       "<polygon fill=\"black\" stroke=\"black\" points=\"265.37,-46.48 268.42,-36.33 259.71,-42.37 265.37,-46.48\"/>\n",
       "</g>\n",
       "<!-- 45 -->\n",
       "<g id=\"node10\" class=\"node\">\n",
       "<title>45</title>\n",
       "<polygon fill=\"#bbddf6\" stroke=\"black\" points=\"462.5,-125 315.5,-125 315.5,-72 462.5,-72 462.5,-125\"/>\n",
       "<text text-anchor=\"middle\" x=\"389\" y=\"-109.8\" font-family=\"Helvetica,sans-Serif\" font-size=\"14.00\">gsw8 &lt;= 0.0</text>\n",
       "<text text-anchor=\"middle\" x=\"389\" y=\"-94.8\" font-family=\"Helvetica,sans-Serif\" font-size=\"14.00\">samples = 15.6%</text>\n",
       "<text text-anchor=\"middle\" x=\"389\" y=\"-79.8\" font-family=\"Helvetica,sans-Serif\" font-size=\"14.00\">value = [0.397, 0.603]</text>\n",
       "</g>\n",
       "<!-- 44&#45;&gt;45 -->\n",
       "<g id=\"edge9\" class=\"edge\">\n",
       "<title>44&#45;&gt;45</title>\n",
       "<path fill=\"none\" stroke=\"black\" d=\"M389,-160.87C389,-152.89 389,-143.93 389,-135.38\"/>\n",
       "<polygon fill=\"black\" stroke=\"black\" points=\"392.5,-135.25 389,-125.25 385.5,-135.25 392.5,-135.25\"/>\n",
       "</g>\n",
       "<!-- 66 -->\n",
       "<g id=\"node13\" class=\"node\">\n",
       "<title>66</title>\n",
       "<polygon fill=\"#eca06a\" stroke=\"black\" points=\"597.5,-125 480.5,-125 480.5,-72 597.5,-72 597.5,-125\"/>\n",
       "<text text-anchor=\"middle\" x=\"539\" y=\"-109.8\" font-family=\"Helvetica,sans-Serif\" font-size=\"14.00\">gsw1 &lt;= 0.174</text>\n",
       "<text text-anchor=\"middle\" x=\"539\" y=\"-94.8\" font-family=\"Helvetica,sans-Serif\" font-size=\"14.00\">samples = 4.7%</text>\n",
       "<text text-anchor=\"middle\" x=\"539\" y=\"-79.8\" font-family=\"Helvetica,sans-Serif\" font-size=\"14.00\">value = [0.8, 0.2]</text>\n",
       "</g>\n",
       "<!-- 44&#45;&gt;66 -->\n",
       "<g id=\"edge12\" class=\"edge\">\n",
       "<title>44&#45;&gt;66</title>\n",
       "<path fill=\"none\" stroke=\"black\" d=\"M433.19,-160.87C449.75,-151.26 468.73,-140.25 486.01,-130.24\"/>\n",
       "<polygon fill=\"black\" stroke=\"black\" points=\"487.97,-133.14 494.86,-125.1 484.46,-127.09 487.97,-133.14\"/>\n",
       "</g>\n",
       "<!-- 46 -->\n",
       "<g id=\"node11\" class=\"node\">\n",
       "<title>46</title>\n",
       "<polygon fill=\"#c0c0c0\" stroke=\"black\" points=\"398,-36 344,-36 344,0 398,0 398,-36\"/>\n",
       "<text text-anchor=\"middle\" x=\"371\" y=\"-14.3\" font-family=\"Helvetica,sans-Serif\" font-size=\"14.00\">(...)</text>\n",
       "</g>\n",
       "<!-- 45&#45;&gt;46 -->\n",
       "<g id=\"edge10\" class=\"edge\">\n",
       "<title>45&#45;&gt;46</title>\n",
       "<path fill=\"none\" stroke=\"black\" d=\"M383.11,-71.8C381.23,-63.62 379.15,-54.55 377.25,-46.27\"/>\n",
       "<polygon fill=\"black\" stroke=\"black\" points=\"380.62,-45.3 374.97,-36.33 373.8,-46.86 380.62,-45.3\"/>\n",
       "</g>\n",
       "<!-- 59 -->\n",
       "<g id=\"node12\" class=\"node\">\n",
       "<title>59</title>\n",
       "<polygon fill=\"#c0c0c0\" stroke=\"black\" points=\"470,-36 416,-36 416,0 470,0 470,-36\"/>\n",
       "<text text-anchor=\"middle\" x=\"443\" y=\"-14.3\" font-family=\"Helvetica,sans-Serif\" font-size=\"14.00\">(...)</text>\n",
       "</g>\n",
       "<!-- 45&#45;&gt;59 -->\n",
       "<g id=\"edge11\" class=\"edge\">\n",
       "<title>45&#45;&gt;59</title>\n",
       "<path fill=\"none\" stroke=\"black\" d=\"M406.68,-71.8C412.68,-63.08 419.38,-53.34 425.37,-44.63\"/>\n",
       "<polygon fill=\"black\" stroke=\"black\" points=\"428.29,-46.55 431.08,-36.33 422.53,-42.59 428.29,-46.55\"/>\n",
       "</g>\n",
       "<!-- 67 -->\n",
       "<g id=\"node14\" class=\"node\">\n",
       "<title>67</title>\n",
       "<polygon fill=\"#c0c0c0\" stroke=\"black\" points=\"554,-36 500,-36 500,0 554,0 554,-36\"/>\n",
       "<text text-anchor=\"middle\" x=\"527\" y=\"-14.3\" font-family=\"Helvetica,sans-Serif\" font-size=\"14.00\">(...)</text>\n",
       "</g>\n",
       "<!-- 66&#45;&gt;67 -->\n",
       "<g id=\"edge13\" class=\"edge\">\n",
       "<title>66&#45;&gt;67</title>\n",
       "<path fill=\"none\" stroke=\"black\" d=\"M535.07,-71.8C533.82,-63.62 532.43,-54.55 531.17,-46.27\"/>\n",
       "<polygon fill=\"black\" stroke=\"black\" points=\"534.62,-45.69 529.65,-36.33 527.7,-46.74 534.62,-45.69\"/>\n",
       "</g>\n",
       "<!-- 76 -->\n",
       "<g id=\"node15\" class=\"node\">\n",
       "<title>76</title>\n",
       "<polygon fill=\"#c0c0c0\" stroke=\"black\" points=\"626,-36 572,-36 572,0 626,0 626,-36\"/>\n",
       "<text text-anchor=\"middle\" x=\"599\" y=\"-14.3\" font-family=\"Helvetica,sans-Serif\" font-size=\"14.00\">(...)</text>\n",
       "</g>\n",
       "<!-- 66&#45;&gt;76 -->\n",
       "<g id=\"edge14\" class=\"edge\">\n",
       "<title>66&#45;&gt;76</title>\n",
       "<path fill=\"none\" stroke=\"black\" d=\"M558.65,-71.8C565.38,-62.99 572.91,-53.14 579.62,-44.36\"/>\n",
       "<polygon fill=\"black\" stroke=\"black\" points=\"582.46,-46.4 585.75,-36.33 576.9,-42.15 582.46,-46.4\"/>\n",
       "</g>\n",
       "</g>\n",
       "</svg>\n"
      ],
      "text/plain": [
       "<graphviz.sources.Source at 0x7baf655c69e0>"
      ]
     },
     "metadata": {},
     "output_type": "display_data"
    },
    {
     "data": {
      "image/svg+xml": [
       "<?xml version=\"1.0\" encoding=\"UTF-8\" standalone=\"no\"?>\n",
       "<!DOCTYPE svg PUBLIC \"-//W3C//DTD SVG 1.1//EN\"\n",
       " \"http://www.w3.org/Graphics/SVG/1.1/DTD/svg11.dtd\">\n",
       "<!-- Generated by graphviz version 2.43.0 (0)\n",
       " -->\n",
       "<!-- Title: Tree Pages: 1 -->\n",
       "<svg width=\"657pt\" height=\"311pt\"\n",
       " viewBox=\"0.00 0.00 656.50 311.00\" xmlns=\"http://www.w3.org/2000/svg\" xmlns:xlink=\"http://www.w3.org/1999/xlink\">\n",
       "<g id=\"graph0\" class=\"graph\" transform=\"scale(1 1) rotate(0) translate(4 307)\">\n",
       "<title>Tree</title>\n",
       "<polygon fill=\"white\" stroke=\"transparent\" points=\"-4,4 -4,-307 652.5,-307 652.5,4 -4,4\"/>\n",
       "<!-- 0 -->\n",
       "<g id=\"node1\" class=\"node\">\n",
       "<title>0</title>\n",
       "<polygon fill=\"#f0b88f\" stroke=\"black\" points=\"394,-303 247,-303 247,-250 394,-250 394,-303\"/>\n",
       "<text text-anchor=\"middle\" x=\"320.5\" y=\"-287.8\" font-family=\"Helvetica,sans-Serif\" font-size=\"14.00\">gsw4 &lt;= 0.0</text>\n",
       "<text text-anchor=\"middle\" x=\"320.5\" y=\"-272.8\" font-family=\"Helvetica,sans-Serif\" font-size=\"14.00\">samples = 100.0%</text>\n",
       "<text text-anchor=\"middle\" x=\"320.5\" y=\"-257.8\" font-family=\"Helvetica,sans-Serif\" font-size=\"14.00\">value = [0.696, 0.304]</text>\n",
       "</g>\n",
       "<!-- 1 -->\n",
       "<g id=\"node2\" class=\"node\">\n",
       "<title>1</title>\n",
       "<polygon fill=\"#eead7f\" stroke=\"black\" points=\"304.5,-214 172.5,-214 172.5,-161 304.5,-161 304.5,-214\"/>\n",
       "<text text-anchor=\"middle\" x=\"238.5\" y=\"-198.8\" font-family=\"Helvetica,sans-Serif\" font-size=\"14.00\">gsw3 &lt;= 0.0</text>\n",
       "<text text-anchor=\"middle\" x=\"238.5\" y=\"-183.8\" font-family=\"Helvetica,sans-Serif\" font-size=\"14.00\">samples = 81.5%</text>\n",
       "<text text-anchor=\"middle\" x=\"238.5\" y=\"-168.8\" font-family=\"Helvetica,sans-Serif\" font-size=\"14.00\">value = [0.74, 0.26]</text>\n",
       "</g>\n",
       "<!-- 0&#45;&gt;1 -->\n",
       "<g id=\"edge1\" class=\"edge\">\n",
       "<title>0&#45;&gt;1</title>\n",
       "<path fill=\"none\" stroke=\"black\" d=\"M296.34,-249.87C287.99,-241.01 278.51,-230.95 269.68,-221.58\"/>\n",
       "<polygon fill=\"black\" stroke=\"black\" points=\"272.18,-219.13 262.77,-214.25 267.08,-223.93 272.18,-219.13\"/>\n",
       "<text text-anchor=\"middle\" x=\"262.03\" y=\"-235.54\" font-family=\"Helvetica,sans-Serif\" font-size=\"14.00\">True</text>\n",
       "</g>\n",
       "<!-- 40 -->\n",
       "<g id=\"node9\" class=\"node\">\n",
       "<title>40</title>\n",
       "<polygon fill=\"#ffffff\" stroke=\"black\" points=\"464.5,-214 342.5,-214 342.5,-161 464.5,-161 464.5,-214\"/>\n",
       "<text text-anchor=\"middle\" x=\"403.5\" y=\"-198.8\" font-family=\"Helvetica,sans-Serif\" font-size=\"14.00\">gsw1 &lt;= 0.112</text>\n",
       "<text text-anchor=\"middle\" x=\"403.5\" y=\"-183.8\" font-family=\"Helvetica,sans-Serif\" font-size=\"14.00\">samples = 18.5%</text>\n",
       "<text text-anchor=\"middle\" x=\"403.5\" y=\"-168.8\" font-family=\"Helvetica,sans-Serif\" font-size=\"14.00\">value = [0.5, 0.5]</text>\n",
       "</g>\n",
       "<!-- 0&#45;&gt;40 -->\n",
       "<g id=\"edge8\" class=\"edge\">\n",
       "<title>0&#45;&gt;40</title>\n",
       "<path fill=\"none\" stroke=\"black\" d=\"M344.95,-249.87C353.41,-241.01 363,-230.95 371.94,-221.58\"/>\n",
       "<polygon fill=\"black\" stroke=\"black\" points=\"374.56,-223.9 378.93,-214.25 369.5,-219.07 374.56,-223.9\"/>\n",
       "<text text-anchor=\"middle\" x=\"379.52\" y=\"-235.54\" font-family=\"Helvetica,sans-Serif\" font-size=\"14.00\">False</text>\n",
       "</g>\n",
       "<!-- 2 -->\n",
       "<g id=\"node3\" class=\"node\">\n",
       "<title>2</title>\n",
       "<polygon fill=\"#e89152\" stroke=\"black\" points=\"147,-125 0,-125 0,-72 147,-72 147,-125\"/>\n",
       "<text text-anchor=\"middle\" x=\"73.5\" y=\"-109.8\" font-family=\"Helvetica,sans-Serif\" font-size=\"14.00\">gsw8 &lt;= 0.004</text>\n",
       "<text text-anchor=\"middle\" x=\"73.5\" y=\"-94.8\" font-family=\"Helvetica,sans-Serif\" font-size=\"14.00\">samples = 40.2%</text>\n",
       "<text text-anchor=\"middle\" x=\"73.5\" y=\"-79.8\" font-family=\"Helvetica,sans-Serif\" font-size=\"14.00\">value = [0.886, 0.114]</text>\n",
       "</g>\n",
       "<!-- 1&#45;&gt;2 -->\n",
       "<g id=\"edge2\" class=\"edge\">\n",
       "<title>1&#45;&gt;2</title>\n",
       "<path fill=\"none\" stroke=\"black\" d=\"M189.89,-160.87C171.42,-151.13 150.22,-139.95 131.01,-129.82\"/>\n",
       "<polygon fill=\"black\" stroke=\"black\" points=\"132.53,-126.67 122.05,-125.1 129.26,-132.86 132.53,-126.67\"/>\n",
       "</g>\n",
       "<!-- 23 -->\n",
       "<g id=\"node6\" class=\"node\">\n",
       "<title>23</title>\n",
       "<polygon fill=\"#f6d4bb\" stroke=\"black\" points=\"312,-125 165,-125 165,-72 312,-72 312,-125\"/>\n",
       "<text text-anchor=\"middle\" x=\"238.5\" y=\"-109.8\" font-family=\"Helvetica,sans-Serif\" font-size=\"14.00\">gsw9 &lt;= 0.001</text>\n",
       "<text text-anchor=\"middle\" x=\"238.5\" y=\"-94.8\" font-family=\"Helvetica,sans-Serif\" font-size=\"14.00\">samples = 41.3%</text>\n",
       "<text text-anchor=\"middle\" x=\"238.5\" y=\"-79.8\" font-family=\"Helvetica,sans-Serif\" font-size=\"14.00\">value = [0.603, 0.397]</text>\n",
       "</g>\n",
       "<!-- 1&#45;&gt;23 -->\n",
       "<g id=\"edge5\" class=\"edge\">\n",
       "<title>1&#45;&gt;23</title>\n",
       "<path fill=\"none\" stroke=\"black\" d=\"M238.5,-160.87C238.5,-152.89 238.5,-143.93 238.5,-135.38\"/>\n",
       "<polygon fill=\"black\" stroke=\"black\" points=\"242,-135.25 238.5,-125.25 235,-135.25 242,-135.25\"/>\n",
       "</g>\n",
       "<!-- 3 -->\n",
       "<g id=\"node4\" class=\"node\">\n",
       "<title>3</title>\n",
       "<polygon fill=\"#c0c0c0\" stroke=\"black\" points=\"96.5,-36 42.5,-36 42.5,0 96.5,0 96.5,-36\"/>\n",
       "<text text-anchor=\"middle\" x=\"69.5\" y=\"-14.3\" font-family=\"Helvetica,sans-Serif\" font-size=\"14.00\">(...)</text>\n",
       "</g>\n",
       "<!-- 2&#45;&gt;3 -->\n",
       "<g id=\"edge3\" class=\"edge\">\n",
       "<title>2&#45;&gt;3</title>\n",
       "<path fill=\"none\" stroke=\"black\" d=\"M72.19,-71.8C71.78,-63.71 71.32,-54.76 70.9,-46.55\"/>\n",
       "<polygon fill=\"black\" stroke=\"black\" points=\"74.39,-46.14 70.38,-36.33 67.4,-46.5 74.39,-46.14\"/>\n",
       "</g>\n",
       "<!-- 16 -->\n",
       "<g id=\"node5\" class=\"node\">\n",
       "<title>16</title>\n",
       "<polygon fill=\"#c0c0c0\" stroke=\"black\" points=\"168.5,-36 114.5,-36 114.5,0 168.5,0 168.5,-36\"/>\n",
       "<text text-anchor=\"middle\" x=\"141.5\" y=\"-14.3\" font-family=\"Helvetica,sans-Serif\" font-size=\"14.00\">(...)</text>\n",
       "</g>\n",
       "<!-- 2&#45;&gt;16 -->\n",
       "<g id=\"edge4\" class=\"edge\">\n",
       "<title>2&#45;&gt;16</title>\n",
       "<path fill=\"none\" stroke=\"black\" d=\"M95.77,-71.8C103.48,-62.9 112.1,-52.93 119.77,-44.08\"/>\n",
       "<polygon fill=\"black\" stroke=\"black\" points=\"122.59,-46.18 126.49,-36.33 117.29,-41.6 122.59,-46.18\"/>\n",
       "</g>\n",
       "<!-- 24 -->\n",
       "<g id=\"node7\" class=\"node\">\n",
       "<title>24</title>\n",
       "<polygon fill=\"#c0c0c0\" stroke=\"black\" points=\"252.5,-36 198.5,-36 198.5,0 252.5,0 252.5,-36\"/>\n",
       "<text text-anchor=\"middle\" x=\"225.5\" y=\"-14.3\" font-family=\"Helvetica,sans-Serif\" font-size=\"14.00\">(...)</text>\n",
       "</g>\n",
       "<!-- 23&#45;&gt;24 -->\n",
       "<g id=\"edge6\" class=\"edge\">\n",
       "<title>23&#45;&gt;24</title>\n",
       "<path fill=\"none\" stroke=\"black\" d=\"M234.24,-71.8C232.89,-63.62 231.39,-54.55 230.02,-46.27\"/>\n",
       "<polygon fill=\"black\" stroke=\"black\" points=\"233.46,-45.62 228.37,-36.33 226.55,-46.77 233.46,-45.62\"/>\n",
       "</g>\n",
       "<!-- 39 -->\n",
       "<g id=\"node8\" class=\"node\">\n",
       "<title>39</title>\n",
       "<polygon fill=\"#c0c0c0\" stroke=\"black\" points=\"324.5,-36 270.5,-36 270.5,0 324.5,0 324.5,-36\"/>\n",
       "<text text-anchor=\"middle\" x=\"297.5\" y=\"-14.3\" font-family=\"Helvetica,sans-Serif\" font-size=\"14.00\">(...)</text>\n",
       "</g>\n",
       "<!-- 23&#45;&gt;39 -->\n",
       "<g id=\"edge7\" class=\"edge\">\n",
       "<title>23&#45;&gt;39</title>\n",
       "<path fill=\"none\" stroke=\"black\" d=\"M257.82,-71.8C264.44,-62.99 271.84,-53.14 278.44,-44.36\"/>\n",
       "<polygon fill=\"black\" stroke=\"black\" points=\"281.26,-46.43 284.47,-36.33 275.67,-42.22 281.26,-46.43\"/>\n",
       "</g>\n",
       "<!-- 41 -->\n",
       "<g id=\"node10\" class=\"node\">\n",
       "<title>41</title>\n",
       "<polygon fill=\"#6db7ec\" stroke=\"black\" points=\"477,-125 330,-125 330,-72 477,-72 477,-125\"/>\n",
       "<text text-anchor=\"middle\" x=\"403.5\" y=\"-109.8\" font-family=\"Helvetica,sans-Serif\" font-size=\"14.00\">gsw2 &lt;= 0.178</text>\n",
       "<text text-anchor=\"middle\" x=\"403.5\" y=\"-94.8\" font-family=\"Helvetica,sans-Serif\" font-size=\"14.00\">samples = 6.9%</text>\n",
       "<text text-anchor=\"middle\" x=\"403.5\" y=\"-79.8\" font-family=\"Helvetica,sans-Serif\" font-size=\"14.00\">value = [0.208, 0.792]</text>\n",
       "</g>\n",
       "<!-- 40&#45;&gt;41 -->\n",
       "<g id=\"edge9\" class=\"edge\">\n",
       "<title>40&#45;&gt;41</title>\n",
       "<path fill=\"none\" stroke=\"black\" d=\"M403.5,-160.87C403.5,-152.89 403.5,-143.93 403.5,-135.38\"/>\n",
       "<polygon fill=\"black\" stroke=\"black\" points=\"407,-135.25 403.5,-125.25 400,-135.25 407,-135.25\"/>\n",
       "</g>\n",
       "<!-- 56 -->\n",
       "<g id=\"node13\" class=\"node\">\n",
       "<title>56</title>\n",
       "<polygon fill=\"#f2bf9b\" stroke=\"black\" points=\"642,-125 495,-125 495,-72 642,-72 642,-125\"/>\n",
       "<text text-anchor=\"middle\" x=\"568.5\" y=\"-109.8\" font-family=\"Helvetica,sans-Serif\" font-size=\"14.00\">gsw6 &lt;= 0.187</text>\n",
       "<text text-anchor=\"middle\" x=\"568.5\" y=\"-94.8\" font-family=\"Helvetica,sans-Serif\" font-size=\"14.00\">samples = 11.7%</text>\n",
       "<text text-anchor=\"middle\" x=\"568.5\" y=\"-79.8\" font-family=\"Helvetica,sans-Serif\" font-size=\"14.00\">value = [0.669, 0.331]</text>\n",
       "</g>\n",
       "<!-- 40&#45;&gt;56 -->\n",
       "<g id=\"edge12\" class=\"edge\">\n",
       "<title>40&#45;&gt;56</title>\n",
       "<path fill=\"none\" stroke=\"black\" d=\"M452.11,-160.87C470.58,-151.13 491.78,-139.95 510.99,-129.82\"/>\n",
       "<polygon fill=\"black\" stroke=\"black\" points=\"512.74,-132.86 519.95,-125.1 509.47,-126.67 512.74,-132.86\"/>\n",
       "</g>\n",
       "<!-- 42 -->\n",
       "<g id=\"node11\" class=\"node\">\n",
       "<title>42</title>\n",
       "<polygon fill=\"#c0c0c0\" stroke=\"black\" points=\"413.5,-36 359.5,-36 359.5,0 413.5,0 413.5,-36\"/>\n",
       "<text text-anchor=\"middle\" x=\"386.5\" y=\"-14.3\" font-family=\"Helvetica,sans-Serif\" font-size=\"14.00\">(...)</text>\n",
       "</g>\n",
       "<!-- 41&#45;&gt;42 -->\n",
       "<g id=\"edge10\" class=\"edge\">\n",
       "<title>41&#45;&gt;42</title>\n",
       "<path fill=\"none\" stroke=\"black\" d=\"M397.93,-71.8C396.16,-63.62 394.2,-54.55 392.41,-46.27\"/>\n",
       "<polygon fill=\"black\" stroke=\"black\" points=\"395.79,-45.36 390.25,-36.33 388.95,-46.84 395.79,-45.36\"/>\n",
       "</g>\n",
       "<!-- 51 -->\n",
       "<g id=\"node12\" class=\"node\">\n",
       "<title>51</title>\n",
       "<polygon fill=\"#c0c0c0\" stroke=\"black\" points=\"485.5,-36 431.5,-36 431.5,0 485.5,0 485.5,-36\"/>\n",
       "<text text-anchor=\"middle\" x=\"458.5\" y=\"-14.3\" font-family=\"Helvetica,sans-Serif\" font-size=\"14.00\">(...)</text>\n",
       "</g>\n",
       "<!-- 41&#45;&gt;51 -->\n",
       "<g id=\"edge11\" class=\"edge\">\n",
       "<title>41&#45;&gt;51</title>\n",
       "<path fill=\"none\" stroke=\"black\" d=\"M421.51,-71.8C427.62,-63.08 434.44,-53.34 440.54,-44.63\"/>\n",
       "<polygon fill=\"black\" stroke=\"black\" points=\"443.49,-46.53 446.36,-36.33 437.75,-42.51 443.49,-46.53\"/>\n",
       "</g>\n",
       "<!-- 57 -->\n",
       "<g id=\"node14\" class=\"node\">\n",
       "<title>57</title>\n",
       "<polygon fill=\"#c0c0c0\" stroke=\"black\" points=\"576.5,-36 522.5,-36 522.5,0 576.5,0 576.5,-36\"/>\n",
       "<text text-anchor=\"middle\" x=\"549.5\" y=\"-14.3\" font-family=\"Helvetica,sans-Serif\" font-size=\"14.00\">(...)</text>\n",
       "</g>\n",
       "<!-- 56&#45;&gt;57 -->\n",
       "<g id=\"edge13\" class=\"edge\">\n",
       "<title>56&#45;&gt;57</title>\n",
       "<path fill=\"none\" stroke=\"black\" d=\"M562.28,-71.8C560.3,-63.62 558.11,-54.55 556.1,-46.27\"/>\n",
       "<polygon fill=\"black\" stroke=\"black\" points=\"559.45,-45.23 553.69,-36.33 552.65,-46.87 559.45,-45.23\"/>\n",
       "</g>\n",
       "<!-- 66 -->\n",
       "<g id=\"node15\" class=\"node\">\n",
       "<title>66</title>\n",
       "<polygon fill=\"#c0c0c0\" stroke=\"black\" points=\"648.5,-36 594.5,-36 594.5,0 648.5,0 648.5,-36\"/>\n",
       "<text text-anchor=\"middle\" x=\"621.5\" y=\"-14.3\" font-family=\"Helvetica,sans-Serif\" font-size=\"14.00\">(...)</text>\n",
       "</g>\n",
       "<!-- 56&#45;&gt;66 -->\n",
       "<g id=\"edge14\" class=\"edge\">\n",
       "<title>56&#45;&gt;66</title>\n",
       "<path fill=\"none\" stroke=\"black\" d=\"M585.85,-71.8C591.74,-63.08 598.31,-53.34 604.2,-44.63\"/>\n",
       "<polygon fill=\"black\" stroke=\"black\" points=\"607.1,-46.58 609.8,-36.33 601.3,-42.66 607.1,-46.58\"/>\n",
       "</g>\n",
       "</g>\n",
       "</svg>\n"
      ],
      "text/plain": [
       "<graphviz.sources.Source at 0x7baf69e2bc10>"
      ]
     },
     "metadata": {},
     "output_type": "display_data"
    },
    {
     "data": {
      "image/svg+xml": [
       "<?xml version=\"1.0\" encoding=\"UTF-8\" standalone=\"no\"?>\n",
       "<!DOCTYPE svg PUBLIC \"-//W3C//DTD SVG 1.1//EN\"\n",
       " \"http://www.w3.org/Graphics/SVG/1.1/DTD/svg11.dtd\">\n",
       "<!-- Generated by graphviz version 2.43.0 (0)\n",
       " -->\n",
       "<!-- Title: Tree Pages: 1 -->\n",
       "<svg width=\"657pt\" height=\"311pt\"\n",
       " viewBox=\"0.00 0.00 656.50 311.00\" xmlns=\"http://www.w3.org/2000/svg\" xmlns:xlink=\"http://www.w3.org/1999/xlink\">\n",
       "<g id=\"graph0\" class=\"graph\" transform=\"scale(1 1) rotate(0) translate(4 307)\">\n",
       "<title>Tree</title>\n",
       "<polygon fill=\"white\" stroke=\"transparent\" points=\"-4,4 -4,-307 652.5,-307 652.5,4 -4,4\"/>\n",
       "<!-- 0 -->\n",
       "<g id=\"node1\" class=\"node\">\n",
       "<title>0</title>\n",
       "<polygon fill=\"#efb388\" stroke=\"black\" points=\"394,-303 247,-303 247,-250 394,-250 394,-303\"/>\n",
       "<text text-anchor=\"middle\" x=\"320.5\" y=\"-287.8\" font-family=\"Helvetica,sans-Serif\" font-size=\"14.00\">gsw4 &lt;= 0.0</text>\n",
       "<text text-anchor=\"middle\" x=\"320.5\" y=\"-272.8\" font-family=\"Helvetica,sans-Serif\" font-size=\"14.00\">samples = 100.0%</text>\n",
       "<text text-anchor=\"middle\" x=\"320.5\" y=\"-257.8\" font-family=\"Helvetica,sans-Serif\" font-size=\"14.00\">value = [0.714, 0.286]</text>\n",
       "</g>\n",
       "<!-- 1 -->\n",
       "<g id=\"node2\" class=\"node\">\n",
       "<title>1</title>\n",
       "<polygon fill=\"#eda775\" stroke=\"black\" points=\"312,-214 165,-214 165,-161 312,-161 312,-214\"/>\n",
       "<text text-anchor=\"middle\" x=\"238.5\" y=\"-198.8\" font-family=\"Helvetica,sans-Serif\" font-size=\"14.00\">gsw5 &lt;= 0.036</text>\n",
       "<text text-anchor=\"middle\" x=\"238.5\" y=\"-183.8\" font-family=\"Helvetica,sans-Serif\" font-size=\"14.00\">samples = 82.2%</text>\n",
       "<text text-anchor=\"middle\" x=\"238.5\" y=\"-168.8\" font-family=\"Helvetica,sans-Serif\" font-size=\"14.00\">value = [0.766, 0.234]</text>\n",
       "</g>\n",
       "<!-- 0&#45;&gt;1 -->\n",
       "<g id=\"edge1\" class=\"edge\">\n",
       "<title>0&#45;&gt;1</title>\n",
       "<path fill=\"none\" stroke=\"black\" d=\"M296.34,-249.87C287.99,-241.01 278.51,-230.95 269.68,-221.58\"/>\n",
       "<polygon fill=\"black\" stroke=\"black\" points=\"272.18,-219.13 262.77,-214.25 267.08,-223.93 272.18,-219.13\"/>\n",
       "<text text-anchor=\"middle\" x=\"262.03\" y=\"-235.54\" font-family=\"Helvetica,sans-Serif\" font-size=\"14.00\">True</text>\n",
       "</g>\n",
       "<!-- 48 -->\n",
       "<g id=\"node9\" class=\"node\">\n",
       "<title>48</title>\n",
       "<polygon fill=\"#ebf5fc\" stroke=\"black\" points=\"477,-214 330,-214 330,-161 477,-161 477,-214\"/>\n",
       "<text text-anchor=\"middle\" x=\"403.5\" y=\"-198.8\" font-family=\"Helvetica,sans-Serif\" font-size=\"14.00\">gsw1 &lt;= 0.212</text>\n",
       "<text text-anchor=\"middle\" x=\"403.5\" y=\"-183.8\" font-family=\"Helvetica,sans-Serif\" font-size=\"14.00\">samples = 17.8%</text>\n",
       "<text text-anchor=\"middle\" x=\"403.5\" y=\"-168.8\" font-family=\"Helvetica,sans-Serif\" font-size=\"14.00\">value = [0.473, 0.527]</text>\n",
       "</g>\n",
       "<!-- 0&#45;&gt;48 -->\n",
       "<g id=\"edge8\" class=\"edge\">\n",
       "<title>0&#45;&gt;48</title>\n",
       "<path fill=\"none\" stroke=\"black\" d=\"M344.95,-249.87C353.41,-241.01 363,-230.95 371.94,-221.58\"/>\n",
       "<polygon fill=\"black\" stroke=\"black\" points=\"374.56,-223.9 378.93,-214.25 369.5,-219.07 374.56,-223.9\"/>\n",
       "<text text-anchor=\"middle\" x=\"379.52\" y=\"-235.54\" font-family=\"Helvetica,sans-Serif\" font-size=\"14.00\">False</text>\n",
       "</g>\n",
       "<!-- 2 -->\n",
       "<g id=\"node3\" class=\"node\">\n",
       "<title>2</title>\n",
       "<polygon fill=\"#f5d0b5\" stroke=\"black\" points=\"147,-125 0,-125 0,-72 147,-72 147,-125\"/>\n",
       "<text text-anchor=\"middle\" x=\"73.5\" y=\"-109.8\" font-family=\"Helvetica,sans-Serif\" font-size=\"14.00\">gsw9 &lt;= 0.122</text>\n",
       "<text text-anchor=\"middle\" x=\"73.5\" y=\"-94.8\" font-family=\"Helvetica,sans-Serif\" font-size=\"14.00\">samples = 40.6%</text>\n",
       "<text text-anchor=\"middle\" x=\"73.5\" y=\"-79.8\" font-family=\"Helvetica,sans-Serif\" font-size=\"14.00\">value = [0.615, 0.385]</text>\n",
       "</g>\n",
       "<!-- 1&#45;&gt;2 -->\n",
       "<g id=\"edge2\" class=\"edge\">\n",
       "<title>1&#45;&gt;2</title>\n",
       "<path fill=\"none\" stroke=\"black\" d=\"M189.89,-160.87C171.42,-151.13 150.22,-139.95 131.01,-129.82\"/>\n",
       "<polygon fill=\"black\" stroke=\"black\" points=\"132.53,-126.67 122.05,-125.1 129.26,-132.86 132.53,-126.67\"/>\n",
       "</g>\n",
       "<!-- 31 -->\n",
       "<g id=\"node6\" class=\"node\">\n",
       "<title>31</title>\n",
       "<polygon fill=\"#e78d4c\" stroke=\"black\" points=\"312,-125 165,-125 165,-72 312,-72 312,-125\"/>\n",
       "<text text-anchor=\"middle\" x=\"238.5\" y=\"-109.8\" font-family=\"Helvetica,sans-Serif\" font-size=\"14.00\">gsw1 &lt;= 0.306</text>\n",
       "<text text-anchor=\"middle\" x=\"238.5\" y=\"-94.8\" font-family=\"Helvetica,sans-Serif\" font-size=\"14.00\">samples = 41.6%</text>\n",
       "<text text-anchor=\"middle\" x=\"238.5\" y=\"-79.8\" font-family=\"Helvetica,sans-Serif\" font-size=\"14.00\">value = [0.914, 0.086]</text>\n",
       "</g>\n",
       "<!-- 1&#45;&gt;31 -->\n",
       "<g id=\"edge5\" class=\"edge\">\n",
       "<title>1&#45;&gt;31</title>\n",
       "<path fill=\"none\" stroke=\"black\" d=\"M238.5,-160.87C238.5,-152.89 238.5,-143.93 238.5,-135.38\"/>\n",
       "<polygon fill=\"black\" stroke=\"black\" points=\"242,-135.25 238.5,-125.25 235,-135.25 242,-135.25\"/>\n",
       "</g>\n",
       "<!-- 3 -->\n",
       "<g id=\"node4\" class=\"node\">\n",
       "<title>3</title>\n",
       "<polygon fill=\"#c0c0c0\" stroke=\"black\" points=\"96.5,-36 42.5,-36 42.5,0 96.5,0 96.5,-36\"/>\n",
       "<text text-anchor=\"middle\" x=\"69.5\" y=\"-14.3\" font-family=\"Helvetica,sans-Serif\" font-size=\"14.00\">(...)</text>\n",
       "</g>\n",
       "<!-- 2&#45;&gt;3 -->\n",
       "<g id=\"edge3\" class=\"edge\">\n",
       "<title>2&#45;&gt;3</title>\n",
       "<path fill=\"none\" stroke=\"black\" d=\"M72.19,-71.8C71.78,-63.71 71.32,-54.76 70.9,-46.55\"/>\n",
       "<polygon fill=\"black\" stroke=\"black\" points=\"74.39,-46.14 70.38,-36.33 67.4,-46.5 74.39,-46.14\"/>\n",
       "</g>\n",
       "<!-- 18 -->\n",
       "<g id=\"node5\" class=\"node\">\n",
       "<title>18</title>\n",
       "<polygon fill=\"#c0c0c0\" stroke=\"black\" points=\"168.5,-36 114.5,-36 114.5,0 168.5,0 168.5,-36\"/>\n",
       "<text text-anchor=\"middle\" x=\"141.5\" y=\"-14.3\" font-family=\"Helvetica,sans-Serif\" font-size=\"14.00\">(...)</text>\n",
       "</g>\n",
       "<!-- 2&#45;&gt;18 -->\n",
       "<g id=\"edge4\" class=\"edge\">\n",
       "<title>2&#45;&gt;18</title>\n",
       "<path fill=\"none\" stroke=\"black\" d=\"M95.77,-71.8C103.48,-62.9 112.1,-52.93 119.77,-44.08\"/>\n",
       "<polygon fill=\"black\" stroke=\"black\" points=\"122.59,-46.18 126.49,-36.33 117.29,-41.6 122.59,-46.18\"/>\n",
       "</g>\n",
       "<!-- 32 -->\n",
       "<g id=\"node7\" class=\"node\">\n",
       "<title>32</title>\n",
       "<polygon fill=\"#c0c0c0\" stroke=\"black\" points=\"252.5,-36 198.5,-36 198.5,0 252.5,0 252.5,-36\"/>\n",
       "<text text-anchor=\"middle\" x=\"225.5\" y=\"-14.3\" font-family=\"Helvetica,sans-Serif\" font-size=\"14.00\">(...)</text>\n",
       "</g>\n",
       "<!-- 31&#45;&gt;32 -->\n",
       "<g id=\"edge6\" class=\"edge\">\n",
       "<title>31&#45;&gt;32</title>\n",
       "<path fill=\"none\" stroke=\"black\" d=\"M234.24,-71.8C232.89,-63.62 231.39,-54.55 230.02,-46.27\"/>\n",
       "<polygon fill=\"black\" stroke=\"black\" points=\"233.46,-45.62 228.37,-36.33 226.55,-46.77 233.46,-45.62\"/>\n",
       "</g>\n",
       "<!-- 41 -->\n",
       "<g id=\"node8\" class=\"node\">\n",
       "<title>41</title>\n",
       "<polygon fill=\"#c0c0c0\" stroke=\"black\" points=\"324.5,-36 270.5,-36 270.5,0 324.5,0 324.5,-36\"/>\n",
       "<text text-anchor=\"middle\" x=\"297.5\" y=\"-14.3\" font-family=\"Helvetica,sans-Serif\" font-size=\"14.00\">(...)</text>\n",
       "</g>\n",
       "<!-- 31&#45;&gt;41 -->\n",
       "<g id=\"edge7\" class=\"edge\">\n",
       "<title>31&#45;&gt;41</title>\n",
       "<path fill=\"none\" stroke=\"black\" d=\"M257.82,-71.8C264.44,-62.99 271.84,-53.14 278.44,-44.36\"/>\n",
       "<polygon fill=\"black\" stroke=\"black\" points=\"281.26,-46.43 284.47,-36.33 275.67,-42.22 281.26,-46.43\"/>\n",
       "</g>\n",
       "<!-- 49 -->\n",
       "<g id=\"node10\" class=\"node\">\n",
       "<title>49</title>\n",
       "<polygon fill=\"#84c2ef\" stroke=\"black\" points=\"477,-125 330,-125 330,-72 477,-72 477,-125\"/>\n",
       "<text text-anchor=\"middle\" x=\"403.5\" y=\"-109.8\" font-family=\"Helvetica,sans-Serif\" font-size=\"14.00\">gsw4 &lt;= 0.194</text>\n",
       "<text text-anchor=\"middle\" x=\"403.5\" y=\"-94.8\" font-family=\"Helvetica,sans-Serif\" font-size=\"14.00\">samples = 10.4%</text>\n",
       "<text text-anchor=\"middle\" x=\"403.5\" y=\"-79.8\" font-family=\"Helvetica,sans-Serif\" font-size=\"14.00\">value = [0.274, 0.726]</text>\n",
       "</g>\n",
       "<!-- 48&#45;&gt;49 -->\n",
       "<g id=\"edge9\" class=\"edge\">\n",
       "<title>48&#45;&gt;49</title>\n",
       "<path fill=\"none\" stroke=\"black\" d=\"M403.5,-160.87C403.5,-152.89 403.5,-143.93 403.5,-135.38\"/>\n",
       "<polygon fill=\"black\" stroke=\"black\" points=\"407,-135.25 403.5,-125.25 400,-135.25 407,-135.25\"/>\n",
       "</g>\n",
       "<!-- 70 -->\n",
       "<g id=\"node13\" class=\"node\">\n",
       "<title>70</title>\n",
       "<polygon fill=\"#eca46f\" stroke=\"black\" points=\"642,-125 495,-125 495,-72 642,-72 642,-125\"/>\n",
       "<text text-anchor=\"middle\" x=\"568.5\" y=\"-109.8\" font-family=\"Helvetica,sans-Serif\" font-size=\"14.00\">gsw4 &lt;= 0.133</text>\n",
       "<text text-anchor=\"middle\" x=\"568.5\" y=\"-94.8\" font-family=\"Helvetica,sans-Serif\" font-size=\"14.00\">samples = 7.4%</text>\n",
       "<text text-anchor=\"middle\" x=\"568.5\" y=\"-79.8\" font-family=\"Helvetica,sans-Serif\" font-size=\"14.00\">value = [0.785, 0.215]</text>\n",
       "</g>\n",
       "<!-- 48&#45;&gt;70 -->\n",
       "<g id=\"edge12\" class=\"edge\">\n",
       "<title>48&#45;&gt;70</title>\n",
       "<path fill=\"none\" stroke=\"black\" d=\"M452.11,-160.87C470.58,-151.13 491.78,-139.95 510.99,-129.82\"/>\n",
       "<polygon fill=\"black\" stroke=\"black\" points=\"512.74,-132.86 519.95,-125.1 509.47,-126.67 512.74,-132.86\"/>\n",
       "</g>\n",
       "<!-- 50 -->\n",
       "<g id=\"node11\" class=\"node\">\n",
       "<title>50</title>\n",
       "<polygon fill=\"#c0c0c0\" stroke=\"black\" points=\"413.5,-36 359.5,-36 359.5,0 413.5,0 413.5,-36\"/>\n",
       "<text text-anchor=\"middle\" x=\"386.5\" y=\"-14.3\" font-family=\"Helvetica,sans-Serif\" font-size=\"14.00\">(...)</text>\n",
       "</g>\n",
       "<!-- 49&#45;&gt;50 -->\n",
       "<g id=\"edge10\" class=\"edge\">\n",
       "<title>49&#45;&gt;50</title>\n",
       "<path fill=\"none\" stroke=\"black\" d=\"M397.93,-71.8C396.16,-63.62 394.2,-54.55 392.41,-46.27\"/>\n",
       "<polygon fill=\"black\" stroke=\"black\" points=\"395.79,-45.36 390.25,-36.33 388.95,-46.84 395.79,-45.36\"/>\n",
       "</g>\n",
       "<!-- 63 -->\n",
       "<g id=\"node12\" class=\"node\">\n",
       "<title>63</title>\n",
       "<polygon fill=\"#c0c0c0\" stroke=\"black\" points=\"485.5,-36 431.5,-36 431.5,0 485.5,0 485.5,-36\"/>\n",
       "<text text-anchor=\"middle\" x=\"458.5\" y=\"-14.3\" font-family=\"Helvetica,sans-Serif\" font-size=\"14.00\">(...)</text>\n",
       "</g>\n",
       "<!-- 49&#45;&gt;63 -->\n",
       "<g id=\"edge11\" class=\"edge\">\n",
       "<title>49&#45;&gt;63</title>\n",
       "<path fill=\"none\" stroke=\"black\" d=\"M421.51,-71.8C427.62,-63.08 434.44,-53.34 440.54,-44.63\"/>\n",
       "<polygon fill=\"black\" stroke=\"black\" points=\"443.49,-46.53 446.36,-36.33 437.75,-42.51 443.49,-46.53\"/>\n",
       "</g>\n",
       "<!-- 71 -->\n",
       "<g id=\"node14\" class=\"node\">\n",
       "<title>71</title>\n",
       "<polygon fill=\"#c0c0c0\" stroke=\"black\" points=\"576.5,-36 522.5,-36 522.5,0 576.5,0 576.5,-36\"/>\n",
       "<text text-anchor=\"middle\" x=\"549.5\" y=\"-14.3\" font-family=\"Helvetica,sans-Serif\" font-size=\"14.00\">(...)</text>\n",
       "</g>\n",
       "<!-- 70&#45;&gt;71 -->\n",
       "<g id=\"edge13\" class=\"edge\">\n",
       "<title>70&#45;&gt;71</title>\n",
       "<path fill=\"none\" stroke=\"black\" d=\"M562.28,-71.8C560.3,-63.62 558.11,-54.55 556.1,-46.27\"/>\n",
       "<polygon fill=\"black\" stroke=\"black\" points=\"559.45,-45.23 553.69,-36.33 552.65,-46.87 559.45,-45.23\"/>\n",
       "</g>\n",
       "<!-- 80 -->\n",
       "<g id=\"node15\" class=\"node\">\n",
       "<title>80</title>\n",
       "<polygon fill=\"#c0c0c0\" stroke=\"black\" points=\"648.5,-36 594.5,-36 594.5,0 648.5,0 648.5,-36\"/>\n",
       "<text text-anchor=\"middle\" x=\"621.5\" y=\"-14.3\" font-family=\"Helvetica,sans-Serif\" font-size=\"14.00\">(...)</text>\n",
       "</g>\n",
       "<!-- 70&#45;&gt;80 -->\n",
       "<g id=\"edge14\" class=\"edge\">\n",
       "<title>70&#45;&gt;80</title>\n",
       "<path fill=\"none\" stroke=\"black\" d=\"M585.85,-71.8C591.74,-63.08 598.31,-53.34 604.2,-44.63\"/>\n",
       "<polygon fill=\"black\" stroke=\"black\" points=\"607.1,-46.58 609.8,-36.33 601.3,-42.66 607.1,-46.58\"/>\n",
       "</g>\n",
       "</g>\n",
       "</svg>\n"
      ],
      "text/plain": [
       "<graphviz.sources.Source at 0x7baf699cbd90>"
      ]
     },
     "metadata": {},
     "output_type": "display_data"
    }
   ],
   "source": [
    "for i in range(3):\n",
    "    tree = best_rf.estimators_[i]\n",
    "    dot_data = export_graphviz(tree,\n",
    "                               feature_names=X_train.columns,\n",
    "                               filled=True,\n",
    "                               max_depth=2,\n",
    "                               impurity=False,\n",
    "                               proportion=True)\n",
    "    graph = graphviz.Source(dot_data)\n",
    "    display(graph)\n",
    "\n",
    "    output_file = f'tree_{i}.pdf'\n",
    "    graph.render(output_file, format='pdf')"
   ]
  },
  {
   "cell_type": "code",
   "execution_count": null,
   "metadata": {
    "colab": {
     "base_uri": "https://localhost:8080/",
     "height": 17
    },
    "id": "CFt4ZC0Nim0j",
    "outputId": "107978b2-32c3-4739-d35f-c97a8f08e3f6"
   },
   "outputs": [
    {
     "data": {
      "application/javascript": [
       "\n",
       "    async function download(id, filename, size) {\n",
       "      if (!google.colab.kernel.accessAllowed) {\n",
       "        return;\n",
       "      }\n",
       "      const div = document.createElement('div');\n",
       "      const label = document.createElement('label');\n",
       "      label.textContent = `Downloading \"${filename}\": `;\n",
       "      div.appendChild(label);\n",
       "      const progress = document.createElement('progress');\n",
       "      progress.max = size;\n",
       "      div.appendChild(progress);\n",
       "      document.body.appendChild(div);\n",
       "\n",
       "      const buffers = [];\n",
       "      let downloaded = 0;\n",
       "\n",
       "      const channel = await google.colab.kernel.comms.open(id);\n",
       "      // Send a message to notify the kernel that we're ready.\n",
       "      channel.send({})\n",
       "\n",
       "      for await (const message of channel.messages) {\n",
       "        // Send a message to notify the kernel that we're ready.\n",
       "        channel.send({})\n",
       "        if (message.buffers) {\n",
       "          for (const buffer of message.buffers) {\n",
       "            buffers.push(buffer);\n",
       "            downloaded += buffer.byteLength;\n",
       "            progress.value = downloaded;\n",
       "          }\n",
       "        }\n",
       "      }\n",
       "      const blob = new Blob(buffers, {type: 'application/binary'});\n",
       "      const a = document.createElement('a');\n",
       "      a.href = window.URL.createObjectURL(blob);\n",
       "      a.download = filename;\n",
       "      div.appendChild(a);\n",
       "      a.click();\n",
       "      div.remove();\n",
       "    }\n",
       "  "
      ],
      "text/plain": [
       "<IPython.core.display.Javascript object>"
      ]
     },
     "metadata": {},
     "output_type": "display_data"
    },
    {
     "data": {
      "application/javascript": [
       "download(\"download_73757b12-f16c-4c20-9f87-9f55ae21ff5b\", \"tree_1.pdf\", 1331)"
      ],
      "text/plain": [
       "<IPython.core.display.Javascript object>"
      ]
     },
     "metadata": {},
     "output_type": "display_data"
    }
   ],
   "source": [
    "from google.colab import files\n",
    "\n",
    "files.download('tree_1.pdf')"
   ]
  },
  {
   "cell_type": "markdown",
   "metadata": {
    "id": "vSp2DB0NKdJs"
   },
   "source": [
    "On applique le modèle avec le meilleur modèle à notre jeu de données test, auquel le modèle est aveugle pendant son entrainement."
   ]
  },
  {
   "cell_type": "code",
   "execution_count": null,
   "metadata": {
    "id": "D32aJGXfJGcd"
   },
   "outputs": [],
   "source": [
    "y_pred = best_rf.predict(X_test)"
   ]
  },
  {
   "cell_type": "markdown",
   "metadata": {
    "id": "vh0FoPVQKsKl"
   },
   "source": [
    "On évalue les performances de notre modèle avec le f1_macro. C'est une métrique adaptée pour des données déséquilibrée et la plus simple à utiliser car elle résume à la fois les préoccupations de précision et de rappel en un seul chiffre."
   ]
  },
  {
   "cell_type": "code",
   "execution_count": null,
   "metadata": {
    "colab": {
     "base_uri": "https://localhost:8080/"
    },
    "id": "5S4BBpWDLuV8",
    "outputId": "23752117-dc55-449b-d1a2-f3151b6c8697"
   },
   "outputs": [
    {
     "name": "stdout",
     "output_type": "stream",
     "text": [
      "F1 score macro 0.7757104625971709\n"
     ]
    }
   ],
   "source": [
    "f1_macro = f1_score(y_test, y_pred, average=\"weighted\") # calculate the f1_score\n",
    "\n",
    "print(\"F1 score weighted\", f1_macro)"
   ]
  },
  {
   "cell_type": "markdown",
   "metadata": {
    "id": "YOlIC6W1MxTn"
   },
   "source": [
    "On évalue notre modèle avec des métriques complémentaires : l'exactitude, la précision et le rappel."
   ]
  },
  {
   "cell_type": "code",
   "execution_count": null,
   "metadata": {
    "colab": {
     "base_uri": "https://localhost:8080/"
    },
    "id": "789Oa7RoLPwB",
    "outputId": "7a0681f8-56b7-4212-aedb-5b592d8b475f"
   },
   "outputs": [
    {
     "name": "stdout",
     "output_type": "stream",
     "text": [
      "Accuracy: 0.8090277777777778\n",
      "Precision: 0.6777777777777778\n",
      "Recall: 0.7011494252873564\n"
     ]
    }
   ],
   "source": [
    "accuracy = accuracy_score(y_test, y_pred)\n",
    "precision = precision_score(y_test, y_pred)\n",
    "recall = recall_score(y_test, y_pred)\n",
    "\n",
    "print(\"Accuracy:\", accuracy)\n",
    "print(\"Precision:\", precision)\n",
    "print(\"Recall:\", recall)"
   ]
  },
  {
   "cell_type": "markdown",
   "metadata": {
    "id": "wkmPqYAZNCw9"
   },
   "source": [
    "On représente enfin la matrice dite de confusion qui permet de classer les visualiser les données mal classées, faux positifs et faux négatifs."
   ]
  },
  {
   "cell_type": "code",
   "execution_count": null,
   "metadata": {
    "colab": {
     "base_uri": "https://localhost:8080/",
     "height": 485
    },
    "id": "9sUA3B4QJPPt",
    "outputId": "5cd91ccf-eafe-4546-980d-f750cc08afb7"
   },
   "outputs": [
    {
     "name": "stdout",
     "output_type": "stream",
     "text": [
      "[[172  29]\n",
      " [ 26  61]]\n"
     ]
    },
    {
     "data": {
      "image/png": "[encoded data removed]",
      "text/plain": [
       "<Figure size 640x480 with 2 Axes>"
      ]
     },
     "metadata": {},
     "output_type": "display_data"
    }
   ],
   "source": [
    "cm = confusion_matrix(y_test, y_pred)\n",
    "print(cm)\n",
    "\n",
    "disp = ConfusionMatrixDisplay(confusion_matrix=cm)\n",
    "disp.plot()\n",
    "plt.show()"
   ]
  }
 ],
 "metadata": {
  "colab": {
   "provenance": []
  },
  "kernelspec": {
   "display_name": "Python 3 (ipykernel)",
   "language": "python",
   "name": "python3"
  },
  "language_info": {
   "codemirror_mode": {
    "name": "ipython",
    "version": 3
   },
   "file_extension": ".py",
   "mimetype": "text/x-python",
   "name": "python",
   "nbconvert_exporter": "python",
   "pygments_lexer": "ipython3",
   "version": "3.8.8"
  }
 },
 "nbformat": 4,
 "nbformat_minor": 4
}
